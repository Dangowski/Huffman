{
 "cells": [
  {
   "cell_type": "markdown",
   "id": "unexpected-throw",
   "metadata": {},
   "source": [
    "## 字符处理阶段"
   ]
  },
  {
   "cell_type": "code",
   "execution_count": 1,
   "id": "swiss-confidentiality",
   "metadata": {},
   "outputs": [],
   "source": [
    "import docx"
   ]
  },
  {
   "cell_type": "code",
   "execution_count": 2,
   "id": "harmful-words",
   "metadata": {},
   "outputs": [
    {
     "name": "stdout",
     "output_type": "stream",
     "text": [
      "25\n"
     ]
    }
   ],
   "source": [
    "doc = docx.Document('大作业-数据压缩.docx')\n",
    "pl = [paragraph.text for paragraph in doc.paragraphs] # doc的段落组成的列表\n",
    "print(len(pl))"
   ]
  },
  {
   "cell_type": "code",
   "execution_count": 3,
   "id": "departmental-michigan",
   "metadata": {},
   "outputs": [
    {
     "name": "stdout",
     "output_type": "stream",
     "text": [
      "编写程序利用huffman、算术编码或者LZ编码其中之一对下述文件进行压缩和解压缩，给出压缩比。提交源程序和报告。\n",
      "这一段内容为空\n",
      "这一段内容为空\n",
      "A public key infrastructure (PKI) supports the distribution, revocation and verification of public keys used for public key encryption, and enables linking of identities with public key certificates. A PKI enables users and systems to securely exchange data over the internet and verify the legitimacy of certificate-holding entities, such as webservers, other authenticated servers and individuals. The PKI enables users to authenticate digital certificate holders, as well as to mediate the process of certificate revocation, using cryptographic algorithms to secure the process.\n",
      "这一段内容为空\n"
     ]
    }
   ],
   "source": [
    "for item in [0, 1, 2, 3, 24]: # 前四段和最后一段为冗余信息\n",
    "    if pl[item] is '':\n",
    "        print('这一段内容为空')\n",
    "        continue\n",
    "    else:\n",
    "        print(pl[item])"
   ]
  },
  {
   "cell_type": "code",
   "execution_count": 4,
   "id": "infrared-trading",
   "metadata": {},
   "outputs": [
    {
     "name": "stdout",
     "output_type": "stream",
     "text": [
      "21\n"
     ]
    }
   ],
   "source": [
    "doc_1 = docx.Document('origin.docx') # 这是原文删去非编码部分后的文件\n",
    "pl_1 = [paragraph.text for paragraph in doc_1.paragraphs] # doc的段落组成的列表\n",
    "print(len(pl_1))"
   ]
  },
  {
   "cell_type": "code",
   "execution_count": 5,
   "id": "acting-hearing",
   "metadata": {},
   "outputs": [
    {
     "name": "stdout",
     "output_type": "stream",
     "text": [
      "A public key infrastructure (PKI) supports the distribution, revocation and verification of public keys used for public key encryption, and enables linking of identities with public key certificates. A PKI enables users and systems to securely exchange data over the internet and verify the legitimacy of certificate-holding entities, such as webservers, other authenticated servers and individuals. The PKI enables users to authenticate digital certificate holders, as well as to mediate the process of certificate revocation, using cryptographic algorithms to secure the process.\n",
      "PKI certificates include a public key used for encryption and cryptographic authentication of data sent to or from the entity that was issued the certificate. Other information included in a PKI certificate includes identifying information about the certificate holder, about the PKI that issued the certificate, and other data including the certificate's creation date and validity period.\n",
      "Without PKI, sensitive information can still be , ensuring confidentiality, and exchanged between two entities, but there would be no assurance of the identity of the other party. Any form of sensitive data exchanged over the internet is reliant on the PKI for enabling the use of  because the PKI enables the authenticated exchange of .\n",
      "Elements of PKI\n",
      "A typical PKI includes the following key elements:\n",
      "A trusted party provides the root of trust for all PKI certificates and provides services that can be used to authenticate the identity of individuals, computers and other entities. Usually known as , these entities provide assurance about the parties identified in a PKI certificate. Each CA maintains its own root CA, for use only by the CA.\n",
      "A  (RA), often called a subordinate CA, issues PKI certificates. The RA is certified by a root CA and authorized to issue certificates for specific uses permitted by the root.\n",
      "A certificate database stores information about issued certificates. In addition to the certificate itself, the database includes validity period and status of each PKI certificate. Certificate revocation is done by updating this database, which must be queried to authenticate any data digitally signed or encrypted with the  of the certificate holder.\n",
      "A certificate store, which is usually permanently stored on a computer, can also be maintained in memory for applications that do not require that certificates be stored permanently. The certificate store enables programs running on the system to access stored certificates,  and certificate trust lists.\n",
      "A CA issues digital certificates to entities and individuals; applicants may be required to verify their identity with increasing degrees of assurance for certificates with increasing levels of validation. The issuing CA digitally signs certificates using its secret key; its public key and  are made available for authentication to all interested parties in a self-signed CA certificate. CAs use the trusted root certificate to create a \"chain of trust;\" many root certificates are embedded in web browsers so they have built-in trust of those CAs. Web servers, email clients, smartphones and many other types of hardware and software -- including IoT devices -- also support PKI and contain trusted root certificates from the major CAs.\n",
      "PKI certificates\n",
      "Along with an entity's or individual's public key, digital certificates contain information about the  used to create the signature, the person or entity identified, the digital signature of the CA that verified the subject data and issued the certificate, the purpose of the public key encryption, signature and certificate signing, as well as a date range during which the certificate can be considered valid.\n",
      "While PKI certificates are used for implementing cryptography over web and other internet connections, they are also used for other applications, including individual certification for code signing applications, for authenticating digital transactions and more.\n",
      "Problems with PKI\n",
      "PKI provides a chain of trust so that identities on a network can be verified. However, like any chain, a PKI is only as strong as its weakest link. There are various standards that cover aspects of PKI -- such as the Internet X.509 Public Key Infrastructure Certificate Policy and Certification Practices Framework (RFC 2527).\n",
      "The Certification Authority Browser Forum, also known as CA/Browser Forum, is an industry consortium founded in 2005 and whose members include CAs, browser software publishers and other system providers who use X.509 digital certificates for encryption and authentication. The CA/Browser Forum publishes guidelines and best practices for CAs, browser and other parties involved in the PKI as it relates to the use of digital certificates.\n",
      "Although a CA is often referred to as a \"trusted third party,\" shortcomings in the security procedures of various CAs in recent years has jeopardized trust in the entire PKI on which the internet depends. If one CA is compromised, the security of the entire PKI is at risk. For example, in 2011, Web browser vendors were forced to  all certificates issued by the Dutch CA DigiNotar after more than 500 fake certificates were discovered.\n",
      "In 2017, Google engineers identified problems with certificates issued through Symantec's CA business, which led to subsequent distrust of all certificates issued by Symantec prior to the sale of its CA business to DigiCert last year.\n",
      "A web of trust\n",
      "An alternative approach to using a CA to authenticate public key information is a decentralized trust model called a \"web of trust,\" a concept used in Pretty Good Privacy () and other OpenPGP-compatible systems. Instead of relying solely on a hierarchy of certificate authorities, certificates are signed by other users to endorse the association of that public key with the person or entity listed in the certificate.\n",
      "One problem with this method is a user has to trust all those in the key chain to be honest, so it’s often best suited to small, user communities. For example, an enterprise could use a web of trust for authenticating the identity of its internal and remote users and devices. It could also act as its own CA, using software such as Microsoft Certificate Services to issue and revoke digital certificates.\n"
     ]
    }
   ],
   "source": [
    "for para in pl_1:\n",
    "    if para is '':\n",
    "        print('这一段内容为空')\n",
    "        continue\n",
    "    else:\n",
    "        print(para)"
   ]
  },
  {
   "cell_type": "code",
   "execution_count": 6,
   "id": "promotional-tomato",
   "metadata": {},
   "outputs": [],
   "source": [
    "statics_table = [\n",
    "                 'a', 'b', 'c', 'd', 'e', 'f', 'g', 'h', 'i', 'j', \\\n",
    "                 'k', 'l', 'm', 'n', 'o', 'p', 'q', 'r', 's', 't', \\\n",
    "                 'u', 'v', 'w', 'x', 'y', 'z', \\\n",
    "                 'A', 'B', 'C', 'D', 'E', 'F', 'G', 'H', 'I', 'J', \\\n",
    "                 'K', 'L', 'M', 'N', 'O', 'P', 'Q', 'R', 'S', 'T', \\\n",
    "                 'U', 'V', 'W', 'X', 'Y', 'Z', \\\n",
    "                 '0', '1', '2', '3', '4', '5', '6', '7', '8', '9', \\\n",
    "                 ' ', ',', '.', '(', ')', '-', '\\\"', '\\'', ':', ';', '/','’'\n",
    "                ]"
   ]
  },
  {
   "cell_type": "code",
   "execution_count": 7,
   "id": "corporate-jimmy",
   "metadata": {},
   "outputs": [
    {
     "name": "stdout",
     "output_type": "stream",
     "text": [
      "第1段字符长度：581\n",
      "第2段字符长度：390\n",
      "第3段字符长度：337\n",
      "第4段字符长度：15\n",
      "第5段字符长度：50\n",
      "第6段字符长度：343\n",
      "第7段字符长度：175\n",
      "第8段字符长度：353\n",
      "第9段字符长度：304\n",
      "第10段字符长度：738\n",
      "第11段字符长度：16\n",
      "第12段字符长度：411\n",
      "第13段字符长度：261\n",
      "第14段字符长度：17\n",
      "第15段字符长度：327\n",
      "第16段字符长度：438\n",
      "第17段字符长度：436\n",
      "第18段字符长度：234\n",
      "第19段字符长度：14\n",
      "第20段字符长度：418\n",
      "第21段字符长度：405\n",
      "总字符长度：6263\n"
     ]
    }
   ],
   "source": [
    "# 只统计docx的英文字符部分，开头的中文和空行(第2,3,25段)不计入\n",
    "sum_characters = 0\n",
    "i = 1\n",
    "for item in pl[3:24]:\n",
    "    length = len(item)\n",
    "    sum_characters += length\n",
    "    print('第%d段字符长度：%d'%(i, length))\n",
    "    i += 1\n",
    "print('总字符长度：%d'%sum_characters)"
   ]
  },
  {
   "cell_type": "code",
   "execution_count": 8,
   "id": "dietary-vacuum",
   "metadata": {},
   "outputs": [],
   "source": [
    "# 初始化一个字符字典\n",
    "statics_dic = {}\n",
    "for char in statics_table:\n",
    "    statics_dic[char] = 0"
   ]
  },
  {
   "cell_type": "code",
   "execution_count": 9,
   "id": "front-irrigation",
   "metadata": {},
   "outputs": [],
   "source": [
    "# 统计字符数据\n",
    "for item in pl[3:24]:\n",
    "# for item in s:\n",
    "    for char in item:\n",
    "        if char in statics_table:\n",
    "            statics_dic[char] += 1\n",
    "        # 考虑编码上可能存在的问题\n",
    "        else:\n",
    "            if char == u'\\xa0': # Non-breaking space，'\\xa0' 属于latin1（ISO/IEC_8859-1）中的扩展字符集字符，即空格，需要单独处理\n",
    "                statics_dic[' '] += 1\n",
    "            else: # 最后价差是否漏记字符\n",
    "                print('未知',char)"
   ]
  },
  {
   "cell_type": "code",
   "execution_count": 10,
   "id": "polished-convertible",
   "metadata": {},
   "outputs": [
    {
     "data": {
      "text/plain": [
       "{'a': 372,\n",
       " 'b': 75,\n",
       " 'c': 246,\n",
       " 'd': 196,\n",
       " 'e': 632,\n",
       " 'f': 144,\n",
       " 'g': 66,\n",
       " 'h': 171,\n",
       " 'i': 484,\n",
       " 'j': 3,\n",
       " 'k': 24,\n",
       " 'l': 144,\n",
       " 'm': 65,\n",
       " 'n': 309,\n",
       " 'o': 308,\n",
       " 'p': 83,\n",
       " 'q': 4,\n",
       " 'r': 338,\n",
       " 's': 363,\n",
       " 't': 556,\n",
       " 'u': 161,\n",
       " 'v': 48,\n",
       " 'w': 50,\n",
       " 'x': 6,\n",
       " 'y': 86,\n",
       " 'z': 3,\n",
       " 'A': 40,\n",
       " 'B': 3,\n",
       " 'C': 31,\n",
       " 'D': 3,\n",
       " 'E': 2,\n",
       " 'F': 7,\n",
       " 'G': 3,\n",
       " 'H': 1,\n",
       " 'I': 33,\n",
       " 'J': 0,\n",
       " 'K': 26,\n",
       " 'L': 0,\n",
       " 'M': 1,\n",
       " 'N': 1,\n",
       " 'O': 3,\n",
       " 'P': 33,\n",
       " 'Q': 0,\n",
       " 'R': 3,\n",
       " 'S': 3,\n",
       " 'T': 8,\n",
       " 'U': 1,\n",
       " 'V': 0,\n",
       " 'W': 4,\n",
       " 'X': 2,\n",
       " 'Y': 0,\n",
       " 'Z': 0,\n",
       " '0': 8,\n",
       " '1': 3,\n",
       " '2': 5,\n",
       " '3': 0,\n",
       " '4': 0,\n",
       " '5': 5,\n",
       " '6': 0,\n",
       " '7': 2,\n",
       " '8': 0,\n",
       " '9': 2,\n",
       " ' ': 968,\n",
       " ',': 51,\n",
       " '.': 39,\n",
       " '(': 4,\n",
       " ')': 4,\n",
       " '-': 10,\n",
       " '\"': 6,\n",
       " \"'\": 4,\n",
       " ':': 1,\n",
       " ';': 3,\n",
       " '/': 2,\n",
       " '’': 1}"
      ]
     },
     "execution_count": 10,
     "metadata": {},
     "output_type": "execute_result"
    }
   ],
   "source": [
    "statics_dic"
   ]
  },
  {
   "cell_type": "code",
   "execution_count": 11,
   "id": "structural-sweden",
   "metadata": {},
   "outputs": [
    {
     "data": {
      "text/plain": [
       "(6263, 6263)"
      ]
     },
     "execution_count": 11,
     "metadata": {},
     "output_type": "execute_result"
    }
   ],
   "source": [
    "sum([i for i in statics_dic.values()]), sum_characters # 判断是否有漏记的字符"
   ]
  },
  {
   "cell_type": "markdown",
   "id": "flexible-paint",
   "metadata": {},
   "source": [
    "## huffman编码，编码部分"
   ]
  },
  {
   "cell_type": "code",
   "execution_count": 12,
   "id": "valuable-track",
   "metadata": {},
   "outputs": [],
   "source": [
    "# 将所统计的字符计算评率并排序\n",
    "# statics_dic_sort = sorted(statics_dic.items(), key = lambda kv:(kv[1]/10, kv[0]))"
   ]
  },
  {
   "cell_type": "code",
   "execution_count": 13,
   "id": "enhanced-identification",
   "metadata": {},
   "outputs": [
    {
     "name": "stdout",
     "output_type": "stream",
     "text": [
      "dict_items([('a', 372), ('b', 75), ('c', 246), ('d', 196), ('e', 632), ('f', 144), ('g', 66), ('h', 171), ('i', 484), ('j', 3), ('k', 24), ('l', 144), ('m', 65), ('n', 309), ('o', 308), ('p', 83), ('q', 4), ('r', 338), ('s', 363), ('t', 556), ('u', 161), ('v', 48), ('w', 50), ('x', 6), ('y', 86), ('z', 3), ('A', 40), ('B', 3), ('C', 31), ('D', 3), ('E', 2), ('F', 7), ('G', 3), ('H', 1), ('I', 33), ('J', 0), ('K', 26), ('L', 0), ('M', 1), ('N', 1), ('O', 3), ('P', 33), ('Q', 0), ('R', 3), ('S', 3), ('T', 8), ('U', 1), ('V', 0), ('W', 4), ('X', 2), ('Y', 0), ('Z', 0), ('0', 8), ('1', 3), ('2', 5), ('3', 0), ('4', 0), ('5', 5), ('6', 0), ('7', 2), ('8', 0), ('9', 2), (' ', 968), (',', 51), ('.', 39), ('(', 4), (')', 4), ('-', 10), ('\"', 6), (\"'\", 4), (':', 1), (';', 3), ('/', 2), ('’', 1)])\n",
      "\n",
      "6263 6263\n"
     ]
    }
   ],
   "source": [
    "print(statics_dic.items())\n",
    "print()\n",
    "\n",
    "ver = 0\n",
    "for item in statics_dic.items():\n",
    "    ver += item[1]\n",
    "print(ver, sum_characters)"
   ]
  },
  {
   "cell_type": "code",
   "execution_count": 14,
   "id": "attempted-lewis",
   "metadata": {},
   "outputs": [
    {
     "name": "stdout",
     "output_type": "stream",
     "text": [
      "74 [('a', 372), ('b', 75), ('c', 246), ('d', 196), ('e', 632), ('f', 144), ('g', 66), ('h', 171), ('i', 484), ('j', 3), ('k', 24), ('l', 144), ('m', 65), ('n', 309), ('o', 308), ('p', 83), ('q', 4), ('r', 338), ('s', 363), ('t', 556), ('u', 161), ('v', 48), ('w', 50), ('x', 6), ('y', 86), ('z', 3), ('A', 40), ('B', 3), ('C', 31), ('D', 3), ('E', 2), ('F', 7), ('G', 3), ('H', 1), ('I', 33), ('J', 0), ('K', 26), ('L', 0), ('M', 1), ('N', 1), ('O', 3), ('P', 33), ('Q', 0), ('R', 3), ('S', 3), ('T', 8), ('U', 1), ('V', 0), ('W', 4), ('X', 2), ('Y', 0), ('Z', 0), ('0', 8), ('1', 3), ('2', 5), ('3', 0), ('4', 0), ('5', 5), ('6', 0), ('7', 2), ('8', 0), ('9', 2), (' ', 968), (',', 51), ('.', 39), ('(', 4), (')', 4), ('-', 10), ('\"', 6), (\"'\", 4), (':', 1), (';', 3), ('/', 2), ('’', 1)]\n",
      "\n",
      "64 [('a', 372), ('b', 75), ('c', 246), ('d', 196), ('e', 632), ('f', 144), ('g', 66), ('h', 171), ('i', 484), ('j', 3), ('k', 24), ('l', 144), ('m', 65), ('n', 309), ('o', 308), ('p', 83), ('q', 4), ('r', 338), ('s', 363), ('t', 556), ('u', 161), ('v', 48), ('w', 50), ('x', 6), ('y', 86), ('z', 3), ('A', 40), ('B', 3), ('C', 31), ('D', 3), ('E', 2), ('F', 7), ('G', 3), ('H', 1), ('I', 33), ('K', 26), ('M', 1), ('N', 1), ('O', 3), ('P', 33), ('R', 3), ('S', 3), ('T', 8), ('U', 1), ('W', 4), ('X', 2), ('0', 8), ('1', 3), ('2', 5), ('5', 5), ('7', 2), ('9', 2), (' ', 968), (',', 51), ('.', 39), ('(', 4), (')', 4), ('-', 10), ('\"', 6), (\"'\", 4), (':', 1), (';', 3), ('/', 2), ('’', 1)]\n",
      "6263 6263\n"
     ]
    }
   ],
   "source": [
    "# 清洗数据，删除未出现的字符\n",
    "statics_list = []\n",
    "statics = list(statics_dic.items())\n",
    "\n",
    "for item in statics:\n",
    "    if item[1] != 0:\n",
    "        statics_list.append(item)\n",
    "\n",
    "print(len(statics), statics)\n",
    "print()\n",
    "print(len(statics_list), statics_list)\n",
    "\n",
    "ver = 0\n",
    "for item in statics_list:\n",
    "    ver += item[1]\n",
    "print(ver, sum_characters)"
   ]
  },
  {
   "cell_type": "code",
   "execution_count": 15,
   "id": "removed-criticism",
   "metadata": {},
   "outputs": [
    {
     "name": "stdout",
     "output_type": "stream",
     "text": [
      "\n"
     ]
    }
   ],
   "source": [
    "'''\n",
    "huffman编码原本计算的是概率，概率和为1停止。但是计算概率会有小数位数影响导致最终求和不是等于1；\n",
    "因此直接使用字符出现字数排序，最终次数和为sum_characters即可；\n",
    "再进一步，代码实现生成huffman树的时候，判断结束是根据叶子结点列表长度判断的，上述统计数据主要用于排序；\n",
    "'''\n",
    "print()"
   ]
  },
  {
   "cell_type": "code",
   "execution_count": 16,
   "id": "legal-projector",
   "metadata": {},
   "outputs": [],
   "source": [
    "# 结点类\n",
    "class Node(object):\n",
    "    def __init__(self, name=None, value=None):\n",
    "        self.name = name\n",
    "        self.value = value\n",
    "        self.parent = None\n",
    "        self.left = None\n",
    "        self.right = None"
   ]
  },
  {
   "cell_type": "code",
   "execution_count": 17,
   "id": "later-sacramento",
   "metadata": {},
   "outputs": [],
   "source": [
    "# 哈夫曼树类\n",
    "class HuffmanTree(object):\n",
    "    # 根据Huffman树的思想：以结点为基础，建立Huffman树\n",
    "    def __init__(self, statics):\n",
    "        self.Leaf = [Node(part[0], part[1]) for part in statics]  # 全部叶子结点\n",
    "        self.tree_node = []\n",
    "        while len(self.Leaf)!=2:\n",
    "            self.Leaf.sort(key=lambda node:node.value) # 从小到大排序\n",
    "            tmp = Node(value=(self.Leaf[0].value + self.Leaf[1].value))\n",
    "            # Leaf[0]为右结点，Leaf[1]为左结点\n",
    "            # 绑定父子关系\n",
    "            tmp.right = self.Leaf[0]\n",
    "            tmp.left = self.Leaf[1]\n",
    "            self.Leaf[0].parent = tmp\n",
    "            self.Leaf[1].parent = tmp \n",
    "            # 压入huffman树\n",
    "            self.tree_node.append(self.Leaf[0])\n",
    "            self.tree_node.append(self.Leaf[1])\n",
    "\n",
    "            self.Leaf.pop(0)\n",
    "            self.Leaf.pop(0)\n",
    "            self.Leaf.append(tmp)\n",
    "        # 最后一个元素，按照叶子结点列表长度判断结束，不需要计算概率值和为1\n",
    "        tmp = Node(name='root', value=(self.Leaf[0].value + self.Leaf[1].value))\n",
    "        tmp.right = self.Leaf[0]\n",
    "        tmp.left = self.Leaf[1]        \n",
    "        self.Leaf[0].parent = tmp\n",
    "        self.Leaf[1].parent = tmp\n",
    "        self.tree_node.append(self.Leaf[0])\n",
    "        self.tree_node.append(self.Leaf[1])\n",
    "        self.tree_node.append(tmp)"
   ]
  },
  {
   "cell_type": "code",
   "execution_count": 18,
   "id": "banner-leonard",
   "metadata": {},
   "outputs": [],
   "source": [
    "# 测试编码\n",
    "statics_test = [('s7', 0.01), ('s6', 0.10), ('s5', 0.15), \\\n",
    "           ('s4', 0.17), ('s3', 0.18), ('s2', 0.19), \\\n",
    "           ('s1', 0.20)]\n",
    "tree = HuffmanTree(statics_test)"
   ]
  },
  {
   "cell_type": "markdown",
   "id": "governmental-bloom",
   "metadata": {},
   "source": [
    "![](example.png)"
   ]
  },
  {
   "cell_type": "code",
   "execution_count": 19,
   "id": "italian-gambling",
   "metadata": {},
   "outputs": [
    {
     "name": "stdout",
     "output_type": "stream",
     "text": [
      "s7 0.01\n",
      "s6 0.1\n",
      "None 0.11\n",
      "s5 0.15\n",
      "s4 0.17\n",
      "s3 0.18\n",
      "s2 0.19\n",
      "s1 0.2\n",
      "None 0.26\n",
      "None 0.35\n",
      "None 0.39\n",
      "None 0.61\n",
      "root 1.0\n"
     ]
    }
   ],
   "source": [
    "for node in tree.tree_node:\n",
    "    if node.name != 'root':\n",
    "        print(node.name, node.value)\n",
    "    else:\n",
    "        print(node.name, node.value)"
   ]
  },
  {
   "cell_type": "code",
   "execution_count": 20,
   "id": "interpreted-output",
   "metadata": {},
   "outputs": [
    {
     "name": "stdout",
     "output_type": "stream",
     "text": [
      "<__main__.Node object at 0x000002415F36C550> s7 0.01 <__main__.Node object at 0x000002415F36CE80>\n",
      "<__main__.Node object at 0x000002415F36C860> s6 0.1 <__main__.Node object at 0x000002415F36CE80>\n",
      "<__main__.Node object at 0x000002415F36CE80> None 0.11 <__main__.Node object at 0x000002415F3B20B8>\n",
      "<__main__.Node object at 0x000002415F36CFD0> s5 0.15 <__main__.Node object at 0x000002415F3B20B8>\n",
      "<__main__.Node object at 0x000002415EE93860> s4 0.17 <__main__.Node object at 0x000002415F3B20F0>\n",
      "<__main__.Node object at 0x000002415EE937F0> s3 0.18 <__main__.Node object at 0x000002415F3B20F0>\n",
      "<__main__.Node object at 0x000002415F3B2048> s2 0.19 <__main__.Node object at 0x000002415F3B2128>\n",
      "<__main__.Node object at 0x000002415F3B2080> s1 0.2 <__main__.Node object at 0x000002415F3B2128>\n",
      "<__main__.Node object at 0x000002415F3B20B8> None 0.26 <__main__.Node object at 0x000002415F3B2160>\n",
      "<__main__.Node object at 0x000002415F3B20F0> None 0.35 <__main__.Node object at 0x000002415F3B2160>\n",
      "<__main__.Node object at 0x000002415F3B2128> None 0.39 <__main__.Node object at 0x000002415F3B2198>\n",
      "<__main__.Node object at 0x000002415F3B2160> None 0.61 <__main__.Node object at 0x000002415F3B2198>\n",
      "<__main__.Node object at 0x000002415F3B2198> root 1.0 None\n"
     ]
    }
   ],
   "source": [
    "# 当前结点地址，当前结点name，当前结点value，父结点地址\n",
    "for node in tree.tree_node:\n",
    "    print(node, node.name, node.value, node.parent)"
   ]
  },
  {
   "cell_type": "code",
   "execution_count": 21,
   "id": "fantastic-blake",
   "metadata": {},
   "outputs": [
    {
     "name": "stdout",
     "output_type": "stream",
     "text": [
      "s7 0111\n",
      "s6 0110\n",
      "s5 010\n",
      "s4 001\n",
      "s3 000\n",
      "s2 11\n",
      "s1 10\n"
     ]
    }
   ],
   "source": [
    "encode = []\n",
    "for node in tree.tree_node:\n",
    "    if node.name != None and node.name != 'root': # 选择出叶子结点\n",
    "        char = node.name\n",
    "        leaf = node\n",
    "        if leaf.name != 'root': # 判断有无父结点\n",
    "            parent = leaf.parent\n",
    "        code = ''\n",
    "        \n",
    "        while True:\n",
    "            # print(leaf, parent)\n",
    "            # print(leaf.name, leaf.value)\n",
    "            if parent.left == leaf: # 左结点为1\n",
    "                code += '0'\n",
    "\n",
    "            else: # 右结点为0 \n",
    "                code += '1'\n",
    "            \n",
    "            leaf = parent\n",
    "            if leaf.name != 'root': # 判断有无父结点\n",
    "                parent = leaf.parent\n",
    "            else:\n",
    "                break\n",
    "        \n",
    "        print(char, code[::-1]) # 逆序\n",
    "        encode.append(code[::-1])\n",
    "    else:\n",
    "        pass"
   ]
  },
  {
   "cell_type": "code",
   "execution_count": 22,
   "id": "amateur-astrology",
   "metadata": {},
   "outputs": [
    {
     "data": {
      "text/plain": [
       "('root', ['0111', '0110', '010', '001', '000', '11', '10'])"
      ]
     },
     "execution_count": 22,
     "metadata": {},
     "output_type": "execute_result"
    }
   ],
   "source": [
    "tree.tree_node[-1].name, encode"
   ]
  },
  {
   "cell_type": "code",
   "execution_count": 23,
   "id": "indie-quilt",
   "metadata": {},
   "outputs": [
    {
     "name": "stdout",
     "output_type": "stream",
     "text": [
      "s7 0.01\n",
      "s6 0.1\n",
      "None 0.11\n",
      "s5 0.15\n",
      "s4 0.17\n",
      "s3 0.18\n",
      "s2 0.19\n",
      "s1 0.2\n",
      "None 0.26\n",
      "None 0.35\n",
      "None 0.39\n",
      "None 0.61\n",
      "root 1.0\n"
     ]
    }
   ],
   "source": [
    "for node in tree.tree_node:\n",
    "    if node.name != 'root':\n",
    "        print(node.name, node.value)\n",
    "    else:\n",
    "        print(node.name, node.value)"
   ]
  },
  {
   "cell_type": "code",
   "execution_count": 24,
   "id": "indirect-darwin",
   "metadata": {},
   "outputs": [
    {
     "name": "stdout",
     "output_type": "stream",
     "text": [
      "s7\n",
      "s6\n",
      "s5\n",
      "s4\n",
      "s3\n",
      "s2\n",
      "s1\n",
      "011101100100010001110 s7s6s5s4s3s2s1\n"
     ]
    }
   ],
   "source": [
    "# 测试解码\n",
    "huffman_decode = ''\n",
    "root = tree.tree_node[-1]\n",
    "en = ''\n",
    "for para in encode:\n",
    "    en += para \n",
    "\n",
    "tmp = root\n",
    "length = len(en)\n",
    "index = 0\n",
    "while index < length:\n",
    "    bit = en[index]\n",
    "    if tmp.name == None or tmp.name == 'root':\n",
    "        if bit == '1': # 右结点\n",
    "            tmp = tmp.right\n",
    "            if index == length - 1:\n",
    "                print(tmp.name)\n",
    "                huffman_decode += tmp.name\n",
    "        else: #左结点\n",
    "            tmp = tmp.left\n",
    "            if index == length - 1:\n",
    "                print(tmp.name)\n",
    "                huffman_decode += tmp.name\n",
    "    else:\n",
    "        print(tmp.name)\n",
    "        huffman_decode += tmp.name\n",
    "        tmp = root\n",
    "        index -= 1\n",
    "    index += 1\n",
    "print(en, huffman_decode)"
   ]
  },
  {
   "cell_type": "code",
   "execution_count": 25,
   "id": "presidential-programming",
   "metadata": {},
   "outputs": [
    {
     "name": "stdout",
     "output_type": "stream",
     "text": [
      "011101100100010001110 s7s6s5s4s3s2s1\n"
     ]
    }
   ],
   "source": [
    "# 测试解码\n",
    "huffman_decode = ''\n",
    "root = tree.tree_node[-1]\n",
    "en = ''\n",
    "for para in encode:\n",
    "    en += para \n",
    "tmp = root\n",
    "for bit in en:\n",
    "    if tmp.name == None or tmp.name == 'root':\n",
    "        if bit == '1': # 右结点\n",
    "            tmp = tmp.right\n",
    "        else: #左结点\n",
    "            tmp = tmp.left\n",
    "        if tmp.name != None and tmp.name != 'root': # 叶子结点\n",
    "            # print(tmp.name)\n",
    "            huffman_decode += tmp.name\n",
    "            tmp = root     \n",
    "print(en, huffman_decode)"
   ]
  },
  {
   "cell_type": "code",
   "execution_count": 26,
   "id": "collectible-charlotte",
   "metadata": {},
   "outputs": [],
   "source": [
    "# 正式\n",
    "huffmantree = HuffmanTree(statics_list)"
   ]
  },
  {
   "cell_type": "code",
   "execution_count": 27,
   "id": "underlying-yellow",
   "metadata": {},
   "outputs": [
    {
     "name": "stdout",
     "output_type": "stream",
     "text": [
      "H 1\tM 1\tN 1\tU 1\t: 1\t’ 1\tE 2\tX 2\t7 2\t9 2\t/ 2\tNone 2\tNone 2\tNone 2\tj 3\tz 3\tB 3\tD 3\tG 3\tO 3\tR 3\tS 3\t1 3\t; 3\tq 4\tW 4\t( 4\t) 4\t' 4\tNone 4\tNone 4\tNone 4\tNone 4\t2 5\t5 5\tx 6\t\" 6\tNone 6\tNone 6\tNone 6\tNone 6\tNone 6\tF 7\tT 8\t0 8\tNone 8\tNone 8\tNone 8\tNone 8\tNone 9\t- 10\tNone 11\tNone 12\tNone 12\tNone 12\tNone 15\tNone 16\tNone 16\tNone 17\tNone 21\tk 24\tNone 24\tK 26\tNone 27\tC 31\tNone 32\tI 33\tP 33\tNone 38\t. 39\tA 40\tv 48\tNone 48\tw 50\t, 51\tNone 53\tNone 63\tm 65\tg 66\tNone 66\tb 75\tNone 77\tp 83\ty 86\tNone 88\tNone 98\tNone 104\tNone 128\tNone 132\tf 144\tl 144\tNone 152\tu 161\tNone 169\th 171\tNone 186\td 196\tNone 232\tc 246\tNone 276\tNone 296\to 308\tn 309\tNone 330\tr 338\tNone 357\ts 363\ta 372\tNone 428\ti 484\tNone 522\tt 556\tNone 604\te 632\tNone 639\tNone 695\tNone 735\tNone 912\t  968\tNone 1078\tNone 1236\tNone 1334\tNone 1647\tNone 2046\tNone 2570\tNone 3693\troot 6263\n"
     ]
    }
   ],
   "source": [
    "for node in huffmantree.tree_node:\n",
    "    if node.name != 'root':\n",
    "        print(node.name, node.value, end='\\t')\n",
    "    else:\n",
    "        print(node.name, node.value)"
   ]
  },
  {
   "cell_type": "code",
   "execution_count": 28,
   "id": "equivalent-asbestos",
   "metadata": {},
   "outputs": [
    {
     "name": "stdout",
     "output_type": "stream",
     "text": [
      "<__main__.Node object at 0x000002415F3B2908> H 1 <__main__.Node object at 0x000002415F380EF0>\n",
      "<__main__.Node object at 0x000002415F3B22E8> M 1 <__main__.Node object at 0x000002415F380EF0>\n",
      "<__main__.Node object at 0x000002415F3B2B00> N 1 <__main__.Node object at 0x000002415F3B2F60>\n",
      "<__main__.Node object at 0x000002415F3B29E8> U 1 <__main__.Node object at 0x000002415F3B2F60>\n",
      "<__main__.Node object at 0x000002415F3B2710> : 1 <__main__.Node object at 0x000002415F3B2E80>\n",
      "<__main__.Node object at 0x000002415F3B26A0> ’ 1 <__main__.Node object at 0x000002415F3B2E80>\n",
      "<__main__.Node object at 0x000002415F3B29B0> E 2 <__main__.Node object at 0x000002415F3B21D0>\n",
      "<__main__.Node object at 0x000002415F3B2550> X 2 <__main__.Node object at 0x000002415F3B21D0>\n",
      "<__main__.Node object at 0x000002415F3B2CF8> 7 2 <__main__.Node object at 0x000002415F35ADD8>\n",
      "<__main__.Node object at 0x000002415F3B2D30> 9 2 <__main__.Node object at 0x000002415F35ADD8>\n",
      "<__main__.Node object at 0x000002415F3B24E0> / 2 <__main__.Node object at 0x000002415F35A3C8>\n",
      "<__main__.Node object at 0x000002415F380EF0> None 2 <__main__.Node object at 0x000002415F35A3C8>\n",
      "<__main__.Node object at 0x000002415F3B2F60> None 2 <__main__.Node object at 0x000002415F35A9B0>\n",
      "<__main__.Node object at 0x000002415F3B2E80> None 2 <__main__.Node object at 0x000002415F35A9B0>\n",
      "<__main__.Node object at 0x000002415F3B2390> j 3 <__main__.Node object at 0x000002415F35AC50>\n",
      "<__main__.Node object at 0x000002415F3B2E10> z 3 <__main__.Node object at 0x000002415F35AC50>\n",
      "<__main__.Node object at 0x000002415F3B2B38> B 3 <__main__.Node object at 0x000002415F35A400>\n",
      "<__main__.Node object at 0x000002415F3B2748> D 3 <__main__.Node object at 0x000002415F35A400>\n",
      "<__main__.Node object at 0x000002415F3B2860> G 3 <__main__.Node object at 0x000002415F35AD68>\n",
      "<__main__.Node object at 0x000002415F3B2AC8> O 3 <__main__.Node object at 0x000002415F35AD68>\n",
      "<__main__.Node object at 0x000002415F3B2B70> R 3 <__main__.Node object at 0x000002415F3A98D0>\n",
      "<__main__.Node object at 0x000002415F3B2978> S 3 <__main__.Node object at 0x000002415F3A98D0>\n",
      "<__main__.Node object at 0x000002415F3B25F8> 1 3 <__main__.Node object at 0x000002415F3A9320>\n",
      "<__main__.Node object at 0x000002415F3B24A8> ; 3 <__main__.Node object at 0x000002415F3A9320>\n",
      "<__main__.Node object at 0x000002415F3B27B8> q 4 <__main__.Node object at 0x000002415F3A9358>\n",
      "<__main__.Node object at 0x000002415F3B2630> W 4 <__main__.Node object at 0x000002415F3A9358>\n",
      "<__main__.Node object at 0x000002415F3B2278> ( 4 <__main__.Node object at 0x000002415F3A93C8>\n",
      "<__main__.Node object at 0x000002415F3B2EF0> ) 4 <__main__.Node object at 0x000002415F3A93C8>\n",
      "<__main__.Node object at 0x000002415F3B2518> ' 4 <__main__.Node object at 0x000002415F3A9400>\n",
      "<__main__.Node object at 0x000002415F3B21D0> None 4 <__main__.Node object at 0x000002415F3A9400>\n",
      "<__main__.Node object at 0x000002415F35ADD8> None 4 <__main__.Node object at 0x000002415F3A9390>\n",
      "<__main__.Node object at 0x000002415F35A3C8> None 4 <__main__.Node object at 0x000002415F3A9390>\n",
      "<__main__.Node object at 0x000002415F35A9B0> None 4 <__main__.Node object at 0x000002415F3A9438>\n",
      "<__main__.Node object at 0x000002415F3B2240> 2 5 <__main__.Node object at 0x000002415F3A9438>\n",
      "<__main__.Node object at 0x000002415F3B2940> 5 5 <__main__.Node object at 0x000002415F3A94A8>\n",
      "<__main__.Node object at 0x000002415F3B2DA0> x 6 <__main__.Node object at 0x000002415F3A94A8>\n",
      "<__main__.Node object at 0x000002415F3B2470> \" 6 <__main__.Node object at 0x000002415F3A94E0>\n",
      "<__main__.Node object at 0x000002415F35AC50> None 6 <__main__.Node object at 0x000002415F3A94E0>\n",
      "<__main__.Node object at 0x000002415F35A400> None 6 <__main__.Node object at 0x000002415F3A9470>\n",
      "<__main__.Node object at 0x000002415F35AD68> None 6 <__main__.Node object at 0x000002415F3A9470>\n",
      "<__main__.Node object at 0x000002415F3A98D0> None 6 <__main__.Node object at 0x000002415F3A9518>\n",
      "<__main__.Node object at 0x000002415F3A9320> None 6 <__main__.Node object at 0x000002415F3A9518>\n",
      "<__main__.Node object at 0x000002415F3B2A20> F 7 <__main__.Node object at 0x000002415F3A9588>\n",
      "<__main__.Node object at 0x000002415F3B2BA8> T 8 <__main__.Node object at 0x000002415F3A9588>\n",
      "<__main__.Node object at 0x000002415F3B2588> 0 8 <__main__.Node object at 0x000002415F3A9550>\n",
      "<__main__.Node object at 0x000002415F3A9358> None 8 <__main__.Node object at 0x000002415F3A9550>\n",
      "<__main__.Node object at 0x000002415F3A93C8> None 8 <__main__.Node object at 0x000002415F3A95C0>\n",
      "<__main__.Node object at 0x000002415F3A9400> None 8 <__main__.Node object at 0x000002415F3A95C0>\n",
      "<__main__.Node object at 0x000002415F3A9390> None 8 <__main__.Node object at 0x000002415F3A9630>\n",
      "<__main__.Node object at 0x000002415F3A9438> None 9 <__main__.Node object at 0x000002415F3A9630>\n",
      "<__main__.Node object at 0x000002415F3B2FD0> - 10 <__main__.Node object at 0x000002415F3A95F8>\n",
      "<__main__.Node object at 0x000002415F3A94A8> None 11 <__main__.Node object at 0x000002415F3A95F8>\n",
      "<__main__.Node object at 0x000002415F3A94E0> None 12 <__main__.Node object at 0x000002415F3A9048>\n",
      "<__main__.Node object at 0x000002415F3A9470> None 12 <__main__.Node object at 0x000002415F3A9048>\n",
      "<__main__.Node object at 0x000002415F3A9518> None 12 <__main__.Node object at 0x000002415F3A9080>\n",
      "<__main__.Node object at 0x000002415F3A9588> None 15 <__main__.Node object at 0x000002415F3A9080>\n",
      "<__main__.Node object at 0x000002415F3A9550> None 16 <__main__.Node object at 0x000002415F3A9160>\n",
      "<__main__.Node object at 0x000002415F3A95C0> None 16 <__main__.Node object at 0x000002415F3A9160>\n",
      "<__main__.Node object at 0x000002415F3A9630> None 17 <__main__.Node object at 0x000002415F3A91D0>\n",
      "<__main__.Node object at 0x000002415F3A95F8> None 21 <__main__.Node object at 0x000002415F3A91D0>\n",
      "<__main__.Node object at 0x000002415F3B2668> k 24 <__main__.Node object at 0x000002415F3A90F0>\n",
      "<__main__.Node object at 0x000002415F3A9048> None 24 <__main__.Node object at 0x000002415F3A90F0>\n",
      "<__main__.Node object at 0x000002415F3B2828> K 26 <__main__.Node object at 0x000002415F3A9240>\n",
      "<__main__.Node object at 0x000002415F3A9080> None 27 <__main__.Node object at 0x000002415F3A9240>\n",
      "<__main__.Node object at 0x000002415F3B26D8> C 31 <__main__.Node object at 0x000002415F3A92B0>\n",
      "<__main__.Node object at 0x000002415F3A9160> None 32 <__main__.Node object at 0x000002415F3A92B0>\n",
      "<__main__.Node object at 0x000002415F3B2898> I 33 <__main__.Node object at 0x000002415F3A92E8>\n",
      "<__main__.Node object at 0x000002415F3B2A90> P 33 <__main__.Node object at 0x000002415F3A92E8>\n",
      "<__main__.Node object at 0x000002415F3A91D0> None 38 <__main__.Node object at 0x000002415F3A9278>\n",
      "<__main__.Node object at 0x000002415F3B2400> . 39 <__main__.Node object at 0x000002415F3A9278>\n",
      "<__main__.Node object at 0x000002415F3B2C50> A 40 <__main__.Node object at 0x000002415F3A9668>\n",
      "<__main__.Node object at 0x000002415F3B2C18> v 48 <__main__.Node object at 0x000002415F3A9668>\n",
      "<__main__.Node object at 0x000002415F3A90F0> None 48 <__main__.Node object at 0x000002415F3A96D8>\n",
      "<__main__.Node object at 0x000002415F3B2780> w 50 <__main__.Node object at 0x000002415F3A96D8>\n",
      "<__main__.Node object at 0x000002415F3B2320> , 51 <__main__.Node object at 0x000002415F3A96A0>\n",
      "<__main__.Node object at 0x000002415F3A9240> None 53 <__main__.Node object at 0x000002415F3A96A0>\n",
      "<__main__.Node object at 0x000002415F3A92B0> None 63 <__main__.Node object at 0x000002415F3A9710>\n",
      "<__main__.Node object at 0x000002415F3B2438> m 65 <__main__.Node object at 0x000002415F3A9710>\n",
      "<__main__.Node object at 0x000002415F3B22B0> g 66 <__main__.Node object at 0x000002415F3A9748>\n",
      "<__main__.Node object at 0x000002415F3A92E8> None 66 <__main__.Node object at 0x000002415F3A9748>\n",
      "<__main__.Node object at 0x000002415F3804E0> b 75 <__main__.Node object at 0x000002415F3A97B8>\n",
      "<__main__.Node object at 0x000002415F3A9278> None 77 <__main__.Node object at 0x000002415F3A97B8>\n",
      "<__main__.Node object at 0x000002415F3B2C88> p 83 <__main__.Node object at 0x000002415F3A97F0>\n",
      "<__main__.Node object at 0x000002415F3B2BE0> y 86 <__main__.Node object at 0x000002415F3A97F0>\n",
      "<__main__.Node object at 0x000002415F3A9668> None 88 <__main__.Node object at 0x000002415F3A9780>\n",
      "<__main__.Node object at 0x000002415F3A96D8> None 98 <__main__.Node object at 0x000002415F3A9780>\n",
      "<__main__.Node object at 0x000002415F3A96A0> None 104 <__main__.Node object at 0x000002415F3A9860>\n",
      "<__main__.Node object at 0x000002415F3A9710> None 128 <__main__.Node object at 0x000002415F3A9860>\n",
      "<__main__.Node object at 0x000002415F3A9748> None 132 <__main__.Node object at 0x000002415F3A9828>\n",
      "<__main__.Node object at 0x000002415F3803C8> f 144 <__main__.Node object at 0x000002415F3A9828>\n",
      "<__main__.Node object at 0x000002415F3B2D68> l 144 <__main__.Node object at 0x000002415F3A9898>\n",
      "<__main__.Node object at 0x000002415F3A97B8> None 152 <__main__.Node object at 0x000002415F3A9898>\n",
      "<__main__.Node object at 0x000002415F3B2DD8> u 161 <__main__.Node object at 0x000002415F3A9908>\n",
      "<__main__.Node object at 0x000002415F3A97F0> None 169 <__main__.Node object at 0x000002415F3A9908>\n",
      "<__main__.Node object at 0x000002415F3B2358> h 171 <__main__.Node object at 0x000002415F3A9940>\n",
      "<__main__.Node object at 0x000002415F3A9780> None 186 <__main__.Node object at 0x000002415F3A9940>\n",
      "<__main__.Node object at 0x000002415F380E80> d 196 <__main__.Node object at 0x000002415F3A9978>\n",
      "<__main__.Node object at 0x000002415F3A9860> None 232 <__main__.Node object at 0x000002415F3A9978>\n",
      "<__main__.Node object at 0x000002415F380CC0> c 246 <__main__.Node object at 0x000002415F3A99B0>\n",
      "<__main__.Node object at 0x000002415F3A9828> None 276 <__main__.Node object at 0x000002415F3A99B0>\n",
      "<__main__.Node object at 0x000002415F3A9898> None 296 <__main__.Node object at 0x000002415F3A99E8>\n",
      "<__main__.Node object at 0x000002415F3B2208> o 308 <__main__.Node object at 0x000002415F3A99E8>\n",
      "<__main__.Node object at 0x000002415F3B25C0> n 309 <__main__.Node object at 0x000002415F3A9A20>\n",
      "<__main__.Node object at 0x000002415F3A9908> None 330 <__main__.Node object at 0x000002415F3A9A20>\n",
      "<__main__.Node object at 0x000002415F3B2A58> r 338 <__main__.Node object at 0x000002415F3A9A58>\n",
      "<__main__.Node object at 0x000002415F3A9940> None 357 <__main__.Node object at 0x000002415F3A9A58>\n",
      "<__main__.Node object at 0x000002415F3B28D0> s 363 <__main__.Node object at 0x000002415F3A9A90>\n",
      "<__main__.Node object at 0x000002415F380F60> a 372 <__main__.Node object at 0x000002415F3A9A90>\n",
      "<__main__.Node object at 0x000002415F3A9978> None 428 <__main__.Node object at 0x000002415F3A9AC8>\n",
      "<__main__.Node object at 0x000002415F3B23C8> i 484 <__main__.Node object at 0x000002415F3A9AC8>\n",
      "<__main__.Node object at 0x000002415F3A99B0> None 522 <__main__.Node object at 0x000002415F3A9B00>\n",
      "<__main__.Node object at 0x000002415F3B27F0> t 556 <__main__.Node object at 0x000002415F3A9B00>\n",
      "<__main__.Node object at 0x000002415F3A99E8> None 604 <__main__.Node object at 0x000002415F3A9B38>\n",
      "<__main__.Node object at 0x000002415F380160> e 632 <__main__.Node object at 0x000002415F3A9B38>\n",
      "<__main__.Node object at 0x000002415F3A9A20> None 639 <__main__.Node object at 0x000002415F3A9B70>\n",
      "<__main__.Node object at 0x000002415F3A9A58> None 695 <__main__.Node object at 0x000002415F3A9B70>\n",
      "<__main__.Node object at 0x000002415F3A9A90> None 735 <__main__.Node object at 0x000002415F3A9BA8>\n",
      "<__main__.Node object at 0x000002415F3A9AC8> None 912 <__main__.Node object at 0x000002415F3A9BA8>\n",
      "<__main__.Node object at 0x000002415F3B2CC0>   968 <__main__.Node object at 0x000002415F3A9BE0>\n",
      "<__main__.Node object at 0x000002415F3A9B00> None 1078 <__main__.Node object at 0x000002415F3A9BE0>\n",
      "<__main__.Node object at 0x000002415F3A9B38> None 1236 <__main__.Node object at 0x000002415F3A9C18>\n",
      "<__main__.Node object at 0x000002415F3A9B70> None 1334 <__main__.Node object at 0x000002415F3A9C18>\n",
      "<__main__.Node object at 0x000002415F3A9BA8> None 1647 <__main__.Node object at 0x000002415F3A9C50>\n",
      "<__main__.Node object at 0x000002415F3A9BE0> None 2046 <__main__.Node object at 0x000002415F3A9C50>\n",
      "<__main__.Node object at 0x000002415F3A9C18> None 2570 <__main__.Node object at 0x000002415F3A9C88>\n",
      "<__main__.Node object at 0x000002415F3A9C50> None 3693 <__main__.Node object at 0x000002415F3A9C88>\n",
      "<__main__.Node object at 0x000002415F3A9C88> root 6263 None\n"
     ]
    }
   ],
   "source": [
    "# 当前结点地址，当前结点name，当前结点value，父结点地址\n",
    "for node in huffmantree.tree_node:\n",
    "    print(node, node.name, node.value, node.parent)"
   ]
  },
  {
   "cell_type": "code",
   "execution_count": 29,
   "id": "first-inclusion",
   "metadata": {},
   "outputs": [],
   "source": [
    "huffman_encode_table = []\n",
    "for node in huffmantree.tree_node:\n",
    "    if node.name != None and node.name != 'root': # 选择出叶子结点\n",
    "        char = node.name\n",
    "        leaf = node\n",
    "        if leaf.name != 'root': # 判断有无父结点\n",
    "            parent = leaf.parent\n",
    "        code = ''\n",
    "        \n",
    "        while True:\n",
    "            # print(leaf, parent)\n",
    "            # print(leaf.name, leaf.value)\n",
    "            if parent.left == leaf: # 左结点为1\n",
    "                code += '0'\n",
    "\n",
    "            else: # 右结点为0 \n",
    "                code += '1'\n",
    "            \n",
    "            leaf = parent\n",
    "            if leaf.name != 'root': # 判断有无父结点\n",
    "                parent = leaf.parent\n",
    "            else:\n",
    "                break\n",
    "        \n",
    "        # print(char, code[::-1]) # 逆序\n",
    "        huffman_encode_table.append([char, code[::-1]])\n",
    "    else:\n",
    "        pass"
   ]
  },
  {
   "cell_type": "code",
   "execution_count": 30,
   "id": "supposed-personality",
   "metadata": {},
   "outputs": [
    {
     "name": "stdout",
     "output_type": "stream",
     "text": [
      "{'H': '111100111001', 'M': '111100111000', 'N': '111100110111', 'U': '111100110110', ':': '111100110101', '’': '111100110100', 'E': '010100100001', 'X': '010100100000', '7': '11110011111', '9': '11110011110', '/': '11110011101', 'j': '10000010101', 'z': '10000010100', 'B': '10000010011', 'D': '10000010010', 'G': '10000010001', 'O': '10000010000', 'R': '01010100111', 'S': '01010100110', '1': '01010100101', ';': '01010100100', 'q': '01010010101', 'W': '01010010100', '(': '01010010011', ')': '01010010010', \"'\": '01010010001', '2': '1111001100', '5': '1111001001', 'x': '1111001000', '\"': '1000001011', 'F': '0101010001', 'T': '0101010000', '0': '0101001011', '-': '111100101', 'k': '10000011', 'K': '01010101', 'C': '01010011', 'I': '00010101', 'P': '00010100', '.': '1111000', 'A': '1000011', 'v': '1000010', 'w': '1000000', ',': '0101011', 'm': '0101000', 'g': '0001011', 'b': '111101', 'p': '101001', 'y': '101000', 'f': '000100', 'l': '11111', 'u': '10101', 'h': '10001', 'd': '01011', 'c': '00011', 'o': '1110', 'n': '1011', 'r': '1001', 's': '0111', 'a': '0110', 'i': '0100', 't': '0000', 'e': '110', ' ': '001'}\n"
     ]
    }
   ],
   "source": [
    "# 创建编码表字典\n",
    "huffman_encode_table_dic = {}\n",
    "for item in huffman_encode_table:\n",
    "    huffman_encode_table_dic[item[0]] = item[1]\n",
    "\n",
    "print(huffman_encode_table_dic)"
   ]
  },
  {
   "cell_type": "code",
   "execution_count": 31,
   "id": "rapid-detroit",
   "metadata": {},
   "outputs": [],
   "source": [
    "# 开始编码\n",
    "huffman_encode = []\n",
    "for para in pl_1:\n",
    "    huffman_encode_para = ''\n",
    "    for char in para:\n",
    "        if char == u'\\xa0': # Non-breaking space，'\\xa0' 属于latin1（ISO/IEC_8859-1）中的扩展字符集字符，即空格，需要单独处理\n",
    "            huffman_encode_para += huffman_encode_table_dic[' ']\n",
    "        else:\n",
    "            huffman_encode_para += huffman_encode_table_dic[char]\n",
    "    huffman_encode.append(huffman_encode_para)"
   ]
  },
  {
   "cell_type": "code",
   "execution_count": 32,
   "id": "authorized-senate",
   "metadata": {},
   "outputs": [
    {
     "name": "stdout",
     "output_type": "stream",
     "text": [
      "100001100110100110101111101111110100000110011000001111010100000101001011000100100101100111000010011010100011000010101100111000101010010011000101000101010100010101010100100100010111101011010011010011110100100000111001000010001110001010110100011100001001010011110110101000001001110101101010110011001110100001011100001101100000010011101011001011010110101100110000101101001010000010001000001101100000010011101011001111000010000110100110101111101111110100000110011000001111010100001110011010101111100101100100010011101001001101001101011111011111101000001100110000011110101000001110101100011100110100010100100000100111010110101011001011010110101100111010110110111101111111100111001111110100101110000011010010110001011001111000010000101000101111010110000010000000100110011100110000000100000010001001101001101011111011111101000001100110000011110101000001000111101001000001000001000100000110110000011001111111000001100001100100010100010101010001010100111010110110111101111111100111001101010111110100101110010110101101011001011110100001110000110010100001110010000111000101111100001110101100111011111101000001110111100100000011100010110101100010111100010101101100000011000111101000010110100100100001000111000101001011000011010011011110000000101101011010110011000010110100101000001001010000010000100011100011111111000010110100000001000101000011000011101000001111000010000100011110100100000100000100010000011011000001101111001011000111101111101011010010110001011001110101100000100000001001100111010101100101111010100011100010010110011100110000001101111010111110100110000101101001011101010110011110000010001110100100101101010100001000111010110000010000011011000001100101100101111101001100001011010010111001011010110101100101001011010110100100001001000101110101011011111011111110000010101010000100011100010001010001010101000101010011101011011011110111111110011100110101011111010010111001000011100010110101010000100011101011000001000001101100000110001010110100000101101000000011011111001000111101001000001000001000100000110110000011000110001111011111010111101001011101010110010110011100110000001101111111111001011001110010000111000101010001100101101000110000011000100001000111000110100110011110000111100111011100111100001000010001111010010000010000010001000001101100000110001100111010000101110000110110000001001110101101010110011010101110100101100010110010001110011010001010010000111000010111001011010100110001010000011001011011111000101111101001010000001000101010000111001000011100010111110000111010110011100010000100011100011010011001111000011110011101111111000\n",
      "0001010001010101000101010010001111010010000010000010001000001101100000110011100101001011000111111110101010111100010110001101001101011111011111101000001100110000011110101000001101010111110010110010001001110100100111010110001110011010001010010000010011101011001011010110101100100011100110100010100100001110000101110010110101001100010100000110010110101010000100011101011000001000001101100000010011101011001111000010000101011011000000110001011111010110000001000011100011110100100100010010011110010100000100001000111000111010110000010000001010000010000100010110000000110000000110011100101000111011110101110010110010000100011100010001111010010000010000010001000001101100000110111100000110000010000000010001110100100101001011000100111010010101000011000000100111010110010100101100011111111010101011110010110010100101100101100010001010001010101000101010010001111010010000010000010001000001101100000110001010010110001111111101010101111001110010100010111101011000001000001001010000100101100010110010100101100010011101001010100001100000010011101011001011011110111101010100000010000100011100010001111010010000010000010001000001101100000110001100011110111110101111010010101011001011011110111101010100000010000100011100010001010001010101000101010010000100010110000000101000111011110101110010110010000100011100010001111010010000010000010001000001101100000110010101100101101011010110011110000010001110100100101011011000000110001010010110001111111101010101101001011000101100100001000111000100011110100100000100000100010000011011000001100101001000101110010001110011100110000001001110101100101011011000001100010110101101011001100001001101111101000101101000000101000001101001110100101001110010111111000\n",
      "01010010100010000001000111101010100000010001010001010101000101010101011001011111010110111010000000100100001011000101001011000100111010010101000011000000100111010110010001101101011001011100000100111111111100111110111000101010110011101011011110101100101001011000101100100011111010110001000100010111101011000001000110111110100000010100001010110010110101101011001110111100100000011100010110101100010111100101100111110111000001000000110110101100100001000000111000111010110000010000000100110011101010110011111011010100000010000100011101001110001100000011101010111111010110011111011100011011111000101100111011110101100101101011000111100011110000100001000010001110001010001011110101100000100000010100000111100001000010000100011100011110000010001110100100110100101101001000010100011110000011000011101110100000100010011101001010100000111100001000010111110101101110100000001001000010110001010110110000001100011101111001000000111000101101011000101111001011001111010000101101001001000010001110001010010110000110100110111100000001010001110011001110111110100011010110000001111010110010000100011100010001010001010101000101010010001001110100100111010110110111101111110100101100010110010000100011100011010101111100011110000100001001111101110000110110101010111110001000010001110001000101000101010100010101001110101101101111011111111001110010000100011100010110101010000100011101011000001000001101100000110010110011101111001000000111000101101011000101111000111100001000011111000\n",
      "0101001000011111111001010001101011000001110011110000100001000101000101010100010101\n",
      "1000011001000010100010100101000001101101111100100010100010101010001010100101001011000111111110101010111100111001000010001110001000100111011111111111110100000001001011000101100110000011110101000001110111111100101000110101100000111111100110101\n",
      "100001100100001001101010111000011001011001101001011010010000101000001101001100111101000010010001011110011100100001000111000110011110111000000011110000100001000010011010101110000001000100111010010010110111111111100100010100010101010001010100100011110100100000100000100010000011011000001100111001011010110101100110100110011110100001001000101111001110010111110100110000100100000111100111001000010001011000000010001101101011001111101110001101010111110010110010000111000101101010100001000111010110000010000011011000001100010000100011100010100010111101011000001000000101000001111000010000101001011010110100100001001000101110101011011111011101010110010001111100101000101001101010000110100101110010110101101011001111000001000111010010011101011000001000000010011001111111000001111100110110011110101011011111111111010000011000001110111110100000010110010110011100101010110010000100011100111110001110101100000100000001001100111001101001100111101000010010001011110001011001110111101011001011010110001111000101101111011110101010000001000010001110001101001011010010000010011001110010100010111101011000001000001000100110010110010100101100101100010001010001010101000101010010001111010010000010000010001000001101100000110111100000101010010000101100001110001001010100111000011001010100001100100101100000110010010110111001010000000111001111010000001011001100111101110000000101010011100001101010110010001001110100100110101011111000111101011111111010000011111011010000010000100011100010101001110000111111000\n",
      "1000011001001010100100110101010011110000110101001001001010110011110000100000011010110010001101101111111111110010110010110001011110101111101111010010101101001011011000001100010101001110000110101011001010001110111101011100111001000101000101010100010101001000111101001000001000001000100000110110000011001111111000001010101000010001110001010101001111000011001010001110010001111010010000010000010001001100101100111110110100000101100011001111011100000001010100111000011001011010110101100101101010100001000111101001010010000010100110010110010000111000101000111011110101110001000111101001000001000001000100000110110000011001110010001001110100100101111010011100001101000001000100000110011010101111100111001101001110100101010000100000000001100101100111110110100000100001000111000110011110111000001111000\n",
      "10000110010001111010010000010000010001000001101100000110001010110110000001101111010110011111000101110000111010011100111001010010110001001110100101010000110000001001110101100101101111011110101010000001010001110111101011100101100100011110100100000100000100010000011011000001100111111100000100010101101100101100101101011010000000100111010110010000111000100001000111000100011110100100000100000100010000011011000001100010100000001111101111100010001010110010000100011100010101101100000011011110101100111110001010010110001111111101010101111001110011000010011011111010001011010000001010000011010011101001010011100101100101101011010110010111000001100000101010111001111000010000111001100001110001001000101000101010100010101001000111101001000001000001000100000110110000011011110000010101001111010010000010000010001000001101100000110001100111010000101110000110110000001001110101100101000111001010111110101111000111110110100000110101101001010110110000001001011000101100100001000101000111001010110110000001101111010110011111001010110011000000100010100000111000100101010001010101110000001111101110001010100101011010111010010100110010110010000111000101101010100001000111010110000010000011011000001100010110101110100000101011011000000110001010110100000101101000000011011111111111010000010111010000010111011110010110011110100100111010110001110011010001010010000110010110011000000010000001000100100001000111000100111100001000010000100011100010001111010010000010000010001000001101100000110001100011110111110101111010011111000\n",
      "1000011001000111101001000001000001000100000110110000011000101110000111010011100101011001100000010001010000011100010010100011100110101011110101011011111111111010000011010011101001010100001101011110101100001111110100000101110000111010011100101100111101011001011000100011111001010001010011010100001101001010101100100011011010110010110111110111111000111110111000101010000110010010110000011001001011110010110010100101100101010001100101000111010011010000010001001110100100101101010011010011111101000001101100000010011101011011100100001000101100000001010111110001101111100000001100111001010010101101010100100111000100001000101100000001000111101001000001000001000100000110110000011001110011111011100010111000011101001110010110011010011101001010100001101011110101100001111110100011110000010101010000100011100010001111010010000010000010001000001101100000110001011100001110100111000111010110110111101111111100111001101001100111100001011100101100101000011100110011010110111011010010110001011001111010110010000100011100010111101000011100001100101000001000011100010110000110001111001110111001011100001110100111001011001000111101001000001000001000100000110110000011001110101011001001011010110101100100011110100100000100000100010000011011000001100010000100110101011100000011111101000111000001111111000\n",
      "10000110010101001110000110010100011101111010111001110010101101000001011010000000110111110010001111010010000010000010001000001101100000110011100100001110001110101100000100000001001100111001011010110101100101001011010110100100001001000101110101011011111011101010100100001011010100110100111111010000011011010110000011100101010000110101000001111101110001100111001010010101101010100100111001011001000011100011000010110100101000001001010000010000100011100100100100101000101111010110000010000001010000011000000010000001000100101001011000111001110011001110100101100010110010101111000010111001110110011100111100001000010110011101111010110010110101100011110001000100111010010010001111010010000010000010001000001101100000110011100110000000100000010001001010010110001110011100110011101001011000101100111111110100001011011111011100111100001000011000010011011111010001011011000000100111010111111000001010101000010001110001010001110111101010100101100010110010101001110000110010101101000001011010000000110111111111110100000101110100000101110110111001000111101001000001000001000100000110110000011001110011010101110100101100010110010100000001110010111110000111001110000000110000011110101000010101001000010100000001110011010011010111110111111010000011001100000111101010000010110101101011001001011010011100010101000011001011110001011010000100110010011111011011110111111110001000100111010010010110101010000100011101011000001000001101100000010011101011001000011100010110111111111100101001011000011010011100111000011001011001101001011010010000010011001110010100101100101100010111110111110001001111001010111010000010111011110010110010101001110000110010001111010010000010000010001000001101100000110111100000101010011100001101110011010101111100010000100011100010000100110101011100001100101100110011110111000000010001111010010000010000010001000001101100000110001000011100010001110011100110000011000101100011000001011000111000101100100101100111100001000010000100110101011100000101010010010000010110010101000011010111010000011001111011100000001000111101001000001000001000100000110110000011001110010110100111000111001010001111011100101101011110010110010100101100110000001101111010011111011001111010000000111110100101110010111111000100001000111010100000110001011010000101100011111011010101001111100001111001010100101100100001001101010111000000111100001000010000100011110011111000101010011100001101111111000001010100101001101111010010111110100110000101101001011101010110011100101000011001001111100100011111110100110101100000111010101100101110101000011010010000101001100011110101111001110010110101101011001010100001101011101000001111000001000111010010010000101000101001110011100111100001000011000101101001010111000000011010011100010110101101011001011111100001000000100000001101001110001111100101111100101001010010110001111111101010101101001011000101100100010101111001010100000010101111010000100100000111100111001111100101111100101001011011111011111100010111101011010011010011110100100000010001010001010101000101010010110101101011001000111110101100000110010010110010000100110101011100001100101100110011110111000000010001111010010000010000010001000001101100000110011100100010010011110010100000100001000111000101010000110100000101011110100100101010011100001101111111000\n",
      "00010100010101010001010100100011110100100000100000100010000011011000001100111\n",
      "100001111111111010110001011001100000001000000100010010110101100111010110000010000001010000101001000101110011110100100101001011010110100100001001000101110101011011111010100100010111001101001101011111011111101000001100110000011110101000010101100101011010000010110100000001101111100100011110100100000100000100010000011011000001100111001000111110101100000110010010110010100101100010011101001010100001100000010011101011001011011110111101010100000010000100011100010011010101111100101100100001110001000111001110011000001100010000100011100010111010000010111011011000001010110011100101011001000010001110001101001110100101111110101100111101001001110101100000100000010100000101000101111010110000010000010001001100101101010110010000100011100010101101000001011010000000110111110010111010000010111011011000001010110011100011110000100001000010001110001010100111000011001000010001011000000011000010110100101000001000100110010110010000100011100010111101011111011000001010111000011000000101011011000000110001011010110101100101000111011110101110010110010000100011100010001111010010000010000010001000001101100000110010101100100001000111000110100110101100110100111100111110001111000010000100001000111000110100110101111101111110100000110011000001111010100000111010110001110011010001010010000010011101011010101100101110100000101110110110000010101100111000101101011010110010001111010010000010000010001000001101100000110001011101000001011101101001011000101101010110010110011100110000001101111111111001011001110010110001010110110000011000110010110101100010111100010101110101100101001011000101100110000001000101000001110001001000010001110001000111101001000001000001000100000110110000011000100011011010110011111011100010001111101011011101000101111010011100101100110000100110111110100010111111000\n",
      "0101001010010001010011111110001000101000101010100010101001000111101001000001000001000100000110110000011001110010110100111000110101011111001011001000100111010010010100010100010100111111110010100011010110000010010110001011001000111001101000101001000011100001011100101101010011000110100000111101000010110100100110000001101111010010110101101011001111000001000111010010010100101100001101001101111000000010001111101011101111000011000001001110101101110101011001000010001110101000001011010011100010110111110111111000110101011111001011001000100111010010011110000010001110100100101101010011010011111101000001101100000010011101011011101010110010100101100011111111010101011010010110001011001010010110101101001000010010001011101010110111110010001111010010000010000010001000001101100000010011101011001000100111010010010001111100101111000101110100000101110110100101100010110010110101001101001111110100000110110000001001110101101110101011001000100111010010010110101010000100011101011000001000001101100000010010110001011001010110100000101101000000011011111001000010010110101101110110000110000010011101011011100101101011010110010101000111010011101111000\n",
      "0001010010011110111101111111100101000011100110000000100000010001001000101000101010100010101\n",
      "00010100010101010001010100110100110011110100001001000101111001110010110001000111000101100100101100111100001000010000100110101011100000010111111000100001000101100000001010001011110101100000100000001001100111001111010110010110001101111000001000000111010011000001100100011011010110011111011100011000010110100101000001000100110010111111000001111100111001111010000001101000010110100101010110011111101001000001111000101101011101000001000111000101100100101101010110010110001000101000101010100010101001010001110011110101111111101000001011001110010111000010011110101100010110010110011100101000000011100110000001100110100000111100111000000111111010010111000001111110000010101010000100011101001110001011010011100011000010011010010100111010101011100101110000011010110101101101001010110111001000010001011000000010001111101000010110100100101100111101001110000110000011100111100001000010001010001010101000101010011111001011111001010010111101010001110001001011001110010000100011100010001010110110000110100110111100000001010100100000111100011110010010101001011111100111100010001010010101111101111110100000110010101010111010100000100010101101100010010010110011100001001101010001100001010110011100010101001111010010000010000010001000001101100000110001000101001110111110100000111010000010110101101011001010100111101001000001000001000100000110110000001001110101100100010100100101100001100000100000111100111001010101000110010110010100011010000001110100110000011001010100100110101010011101010100010101001100111110011001111001001111100110011110011111010100100101111000\n",
      "01010100001000111000101010011110100100000100000100010000011011000000100111010110011000011101010000100011110100101000000101000001100000100111001111010000000111110100100101010100011110100110101010100001010110010110111110111111000110000011101111101000000101100101100111001010100111000011111100111011000001001110011110100000001111101001001010101000111101001101010101000010101100101000111001011010110010100101101011101010111000010011010000010001111101011011111101001000001001010101010000010001001110101011011010111100101100101001011001111100110001010010110101001011111100100100101101011010110011000000100011110011111000101010001100101000111101110100101110010100101100011111111010101011110001010100111000011011101010110011111011001111010000000111110100100101111110000100000010000000110100111000110100110101111101111110100011110001110100101110010110101101011001111000001000111010010010111101000011100001100101000001101001100111101000010010001011110100101110011000000100011110001101010111110001010100100000111100011110010010101001011111100111100010101101000001011010000000110111110010001111010010000010000010001000001101100000110011100100010011101001001110101100011100110100010100100000100111010110010110101101011001011010101000010001110101100000100000110110000001001110101111110000010101010000100011100010101001110000111111001110110000010011100111101000000011111010010010101010001111010011010101010000011010011010111110111111010001111000111001110010001011101010100010111101111101001011110011100101101011010110011111011100111000000110100110010110000110000010000011110011100100010011101001001010100111000011011101010110011111011001111010000000111110100100101101011010110011110000010001110100100110100101101001000001001100111001010010111000010111011111100001011001011001010010110010000100011100010001010001010101000101010010110011100101000000001100111011111011000001100111001000011100010000100011100011010101111100011110000100001010110100000101101000000011011111001000111101001000001000001000100000110110000011001111111000\n",
      "10000111111100001000111101010100010111000100101100010101001110000110010100011100111100001000000110101100110011100001001101001100111001011001000011100010110011100101100011000001011000010011010101110000110010110010000100010100100101011001101001011010010000101000010101110000010110010111100011110100100000001111100101000010010110001011011100101001011001000010001110001011111000011101011001010000001010000011010011001111000011110010111010110011100111001111000010000110000100110100101001110101010111001010100111000011011100101001011001100111000011110101100000011010001100110100101110011000101100111001100000101011101110101001011010010101101001000001010011001011001000010011010101110000001010010110010000100011100011101011000001001001110001000101000101010100010101001111010110011000000100010100000111000100100001000111000101001011000011010011011110000000101011110101001110101101011011111110000010001010100010000111101011110001010100111000011001010001110010001111100101000101001100111100101000010001111100101101010110010000100011100010111110000111010110010100000010100000111100001000010000100011100011101011000001001001110001000101000101010100010101001010001110010110000000110010100011110000011111100000101010100011110100100111011110010000110010100010100111111110010101100101001011001111100110001010010110101010010101010100101010101100101010010100110111101001111101100111101000000011111010010011000010110101101011111010010111001100000011010011100010001001110100100011110010110010000111000100101101111111111001000111101001000001000001000100000110110000011001110010100011101111010111001011001111101101000001000010001110001100000100101010100000001110001001010100111000011001100000100100100000101101001111001101111110000001101001001011000010000001101001001010100011101001110001000010001011010110011111001001010100101101010010110010001000110100000111100010001111010010000010000010001000001101100000110011100110000001101001110001010110100011100011111010000101101001110010111111000\n",
      "0001010110110011111001100010100101101010100101111100111110101011001100000100011110111000010111111111000111010110001011010010111101101001011100101000101111010110000010000010001001100101100110100110011110111101111111100101000011100110000000100000010001001000111101001000001000001000100000110110000011001110010100011101111010111001011001000010001100111101010100010111000100101010100110101000010100001101011000011000011010100100010111001010100111000011001111101101010111010010111100111011101010110011000000100010100000111000100111111110010110010000111000101111010111110101111100101001010110101110101100000010101101000111000010011010101110000001111000010000101101111111111001000111101001000001000001000100000110110000011001110010100011101111010111001011001111101101000001010101001101010000101000011010110000110000110011010011001010011101001001000011100010000100011100010111011011111110001111000010000101000000011100101010011100001100111110110101011101001011110011101110010000111000110000010010010000010110100010100111101001000000111111011001110000001101000110011010011111000\n",
      "100001100110000001101111010011110000100001000010011010101110000\n",
      "100001110110010110111110000110100110110110000001001000010110001011010100110100110011110011000011100010010000111000110101011101001011000101100101100010101001110000110010000111000101101010100001000111010110000010000011011000001100011010011010111110111111010000011001100000111101010000010100101100010011101001010100001100000010011101011001010001110010110001010111100001111010110000100101101111101001000001010011001011001000010011010101110000001010100011100101111011111001000110110111111111111001011001011000110000010111000000110111101001111000010000100001001101010111000001010111000001011001011000100011111010110001111010100100000011010101111100101100101001011001000101001001110000000001010000011000001000111101110010110010001010010010100100001001100001110100000101010010011010100100100010110101101011001111000001000111010010011000001000010100111010110001010010000010001000101001111001010001111100101000101001011000000100111101111111100010111101000011100001100101000011111110000010001010110110111000011001100101100111100001000011001110111111010000100101100010110010111111011111110111111010000011110101100101100011000101001101001011010010001110001101000001111000010000100011110100100000100000100010000011011000001100010110101010000100011110100101000000010011001110101011001000111101001000001000001000100000110110000011001110010110100111000101110100000101110111100101100111110110100000111100000100011101001001101010111110100101110010000111000111010110101111101001011111000100001000111000101100111011111100001101000110000001001110101100111100001000010000100010110000000110100110101111101111110100000110011000001111010100000110000000100000010001001000010001110001101001110100101111110101100111101001001110101100000100000010100000111111010001110000110010110010100101100100001000111000100011110100100000100000100010000011011000001101111000\n",
      "10000010000101111000110100110011110111101111111100101000001100000001000000100010010000100010100011100101010001100000100011110010110010100011100101100011010101111101001001100010110011100100001110001000010011010101110000001011011111111110010000100011110011111000101001011001000010001110001100000111101010000010001110001011001001011001000011100011111011100011000111101011110011100000101011001011111100010100000011110011010001110011110000100000011010110011111011100111000000101111010101000000110010110010000111000101110101000011011111111110101011001101010111110100100100011111001010000101000101011011010000000100110011111110000010101010001111010010011101111001000011001010001010011111111001010110010110101100111010110000110100110100110010100011111000100011111010101111110101100110101011111000101100011000000110111101001111000010000100001001101010111000000100010011101001001011010101000010001110101100000100000110110000001001011000101100100001000111000101000101111010110000010000001010000011110000100001010000000111001010010110000110100110110110111110010110101101011001100111001010001110000011000110101011111010010111001011010110101100101011110100001001000001111001111111000001000101010000001000111110101011111101011001011011111011111100010110000110000001011001110010100000001110011110100000010110010101001110000110101011001101010111010010110001011001011111100001000000100000001101001110001011110101000111000100101100111001111100111000010000011100111100111111000010000000010101001111010010000010000010001000001101100000110001010101001101101001100001001000001111001110010000111000101000111011110101110001011010110101100110011101000010111010000011110001010110100000101101000000011011111001000111101001000001000001000100000110110000011001111111000\n"
     ]
    }
   ],
   "source": [
    "for para in huffman_encode:\n",
    "    print(para)"
   ]
  },
  {
   "cell_type": "markdown",
   "id": "damaged-opinion",
   "metadata": {},
   "source": [
    "## huffman编码，解码部分"
   ]
  },
  {
   "cell_type": "code",
   "execution_count": 33,
   "id": "surrounded-description",
   "metadata": {},
   "outputs": [],
   "source": [
    "\n"
   ]
  },
  {
   "cell_type": "code",
   "execution_count": 34,
   "id": "fundamental-bermuda",
   "metadata": {},
   "outputs": [
    {
     "data": {
      "text/plain": [
       "'root'"
      ]
     },
     "execution_count": 34,
     "metadata": {},
     "output_type": "execute_result"
    }
   ],
   "source": [
    "root.name"
   ]
  },
  {
   "cell_type": "code",
   "execution_count": 45,
   "id": "racial-oregon",
   "metadata": {},
   "outputs": [
    {
     "name": "stdout",
     "output_type": "stream",
     "text": [
      "A public key infrastructure (PKI) supports the distribution, revocation and verification of public keys used for public key encryption, and enables linking of identities with public key certificates. A PKI enables users and systems to securely exchange data over the internet and verify the legitimacy of certificate-holding entities, such as webservers, other authenticated servers and individuals. The PKI enables users to authenticate digital certificate holders, as well as to mediate the process of certificate revocation, using cryptographic algorithms to secure the process.\n",
      "PKI certificates include a public key used for encryption and cryptographic authentication of data sent to or from the entity that was issued the certificate. Other information included in a PKI certificate includes identifying information about the certificate holder, about the PKI that issued the certificate, and other data including the certificate's creation date and validity period.\n",
      "Without PKI, sensitive information can still be , ensuring confidentiality, and exchanged between two entities, but there would be no assurance of the identity of the other party. Any form of sensitive data exchanged over the internet is reliant on the PKI for enabling the use of  because the PKI enables the authenticated exchange of .\n",
      "Elements of PKI\n",
      "A typical PKI includes the following key elements:\n",
      "A trusted party provides the root of trust for all PKI certificates and provides services that can be used to authenticate the identity of individuals, computers and other entities. Usually known as , these entities provide assurance about the parties identified in a PKI certificate. Each CA maintains its own root CA, for use only by the CA.\n",
      "A  (RA), often called a subordinate CA, issues PKI certificates. The RA is certified by a root CA and authorized to issue certificates for specific uses permitted by the root.\n",
      "A certificate database stores information about issued certificates. In addition to the certificate itself, the database includes validity period and status of each PKI certificate. Certificate revocation is done by updating this database, which must be queried to authenticate any data digitally signed or encrypted with the  of the certificate holder.\n",
      "A certificate store, which is usually permanently stored on a computer, can also be maintained in memory for applications that do not require that certificates be stored permanently. The certificate store enables programs running on the system to access stored certificates,  and certificate trust lists.\n",
      "A CA issues digital certificates to entities and individuals; applicants may be required to verify their identity with increasing degrees of assurance for certificates with increasing levels of validation. The issuing CA digitally signs certificates using its secret key; its public key and  are made available for authentication to all interested parties in a self-signed CA certificate. CAs use the trusted root certificate to create a \"chain of trust;\" many root certificates are embedded in web browsers so they have built-in trust of those CAs. Web servers, email clients, smartphones and many other types of hardware and software -- including IoT devices -- also support PKI and contain trusted root certificates from the major CAs.\n",
      "PKI certificates\n",
      "Along with an entity's or individual's public key, digital certificates contain information about the  used to create the signature, the person or entity identified, the digital signature of the CA that verified the subject data and issued the certificate, the purpose of the public key encryption, signature and certificate signing, as well as a date range during which the certificate can be considered valid.\n",
      "While PKI certificates are used for implementing cryptography over web and other internet connections, they are also used for other applications, including individual certification for code signing applications, for authenticating digital transactions and more.\n",
      "Problems with PKI\n",
      "PKI provides a chain of trust so that identities on a network can be verified. However, like any chain, a PKI is only as strong as its weakest link. There are various standards that cover aspects of PKI -- such as the Internet X.509 Public Key Infrastructure Certificate Policy and Certification Practices Framework (RFC 2527).\n",
      "The Certification Authority Browser Forum, also known as CA/Browser Forum, is an industry consortium founded in 2005 and whose members include CAs, browser software publishers and other system providers who use X.509 digital certificates for encryption and authentication. The CA/Browser Forum publishes guidelines and best practices for CAs, browser and other parties involved in the PKI as it relates to the use of digital certificates.\n",
      "Although a CA is often referred to as a \"trusted third party,\" shortcomings in the security procedures of various CAs in recent years has jeopardized trust in the entire PKI on which the internet depends. If one CA is compromised, the security of the entire PKI is at risk. For example, in 2011, Web browser vendors were forced to  all certificates issued by the Dutch CA DigiNotar after more than 500 fake certificates were discovered.\n",
      "In 2017, Google engineers identified problems with certificates issued through Symantec's CA business, which led to subsequent distrust of all certificates issued by Symantec prior to the sale of its CA business to DigiCert last year.\n",
      "A web of trust\n",
      "An alternative approach to using a CA to authenticate public key information is a decentralized trust model called a \"web of trust,\" a concept used in Pretty Good Privacy () and other OpenPGP-compatible systems. Instead of relying solely on a hierarchy of certificate authorities, certificates are signed by other users to endorse the association of that public key with the person or entity listed in the certificate.\n",
      "One problem with this method is a user has to trust all those in the key chain to be honest, so it’s often best suited to small, user communities. For example, an enterprise could use a web of trust for authenticating the identity of its internal and remote users and devices. It could also act as its own CA, using software such as Microsoft Certificate Services to issue and revoke digital certificates.\n"
     ]
    }
   ],
   "source": [
    "'''\n",
    "解码只需要从根结点往下遍历到叶子结点即可\n",
    "'''\n",
    "root = huffmantree.tree_node[-1] # 最后一个结点是根结点\n",
    "huffman_decode = []\n",
    "for para in huffman_encode:\n",
    "    huffman_decode_para = ''\n",
    "    tmp = root\n",
    "    for bit in para:\n",
    "        if tmp.name == None or tmp.name == 'root':\n",
    "            if bit == '1': # 右结点\n",
    "                tmp = tmp.right\n",
    "            else: #左结点\n",
    "                tmp = tmp.left\n",
    "            if tmp.name != None and tmp.name != 'root': # 叶子结点\n",
    "                # print(tmp.name)\n",
    "                huffman_decode_para += tmp.name\n",
    "                tmp = root\n",
    "    # huffman_decode.append(huffman_decode_para)\n",
    "    print(huffman_decode_para)"
   ]
  },
  {
   "cell_type": "code",
   "execution_count": null,
   "id": "copyrighted-pride",
   "metadata": {},
   "outputs": [],
   "source": []
  }
 ],
 "metadata": {
  "kernelspec": {
   "display_name": "Python 3",
   "language": "python",
   "name": "python3"
  },
  "language_info": {
   "codemirror_mode": {
    "name": "ipython",
    "version": 3
   },
   "file_extension": ".py",
   "mimetype": "text/x-python",
   "name": "python",
   "nbconvert_exporter": "python",
   "pygments_lexer": "ipython3",
   "version": "3.6.12"
  }
 },
 "nbformat": 4,
 "nbformat_minor": 5
}
