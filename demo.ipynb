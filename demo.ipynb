{
 "cells": [
  {
   "cell_type": "markdown",
   "id": "soviet-accreditation",
   "metadata": {},
   "source": [
    "# Readme\n",
    "<br> 本代码为HuffMan编码解码的演示<br>\n",
    "<br> 目录 <br>\n",
    "<br> 1.字符数据处理<br>\n",
    "<br> 2.HuffMan树构造<br>\n",
    "<br> 3.数据编码<br>\n",
    "<br> 4.数据解码<br>\n",
    "<br> 5计算压缩比.<br>"
   ]
  },
  {
   "cell_type": "markdown",
   "id": "bizarre-extent",
   "metadata": {},
   "source": [
    "# 1、字符处理"
   ]
  },
  {
   "cell_type": "code",
   "execution_count": 1,
   "id": "meaningful-assist",
   "metadata": {},
   "outputs": [],
   "source": [
    "import docx"
   ]
  },
  {
   "cell_type": "code",
   "execution_count": 2,
   "id": "married-appeal",
   "metadata": {},
   "outputs": [
    {
     "name": "stdout",
     "output_type": "stream",
     "text": [
      "25\n"
     ]
    }
   ],
   "source": [
    "doc = docx.Document('大作业-数据压缩.docx')\n",
    "pl_test = [paragraph.text for paragraph in doc.paragraphs] # doc的段落组成的列表\n",
    "print(len(pl_test))"
   ]
  },
  {
   "cell_type": "markdown",
   "id": "collected-circuit",
   "metadata": {},
   "source": [
    "经过源文件和答应结果可知，段落0, 1, 2, 24是无用信息"
   ]
  },
  {
   "cell_type": "code",
   "execution_count": 3,
   "id": "fancy-coordinate",
   "metadata": {},
   "outputs": [
    {
     "name": "stdout",
     "output_type": "stream",
     "text": [
      "第0段\t编写程序利用huffman、算术编码或者LZ编码其中之一对下述文件进行压缩和解压缩，给出压缩比。提交源程序和报告。\n",
      "第1段\t这一段内容为空\n",
      "第2段\t这一段内容为空\n",
      "第3段\tA public key infrastructure (PKI) supports the distribution, revocation and verification of public keys used for public key encryption, and enables linking of identities with public key certificates. A PKI enables users and systems to securely exchange data over the internet and verify the legitimacy of certificate-holding entities, such as webservers, other authenticated servers and individuals. The PKI enables users to authenticate digital certificate holders, as well as to mediate the process of certificate revocation, using cryptographic algorithms to secure the process.\n",
      "第24段\t这一段内容为空\n"
     ]
    }
   ],
   "source": [
    "for item in [0, 1, 2, 3, 24]: # 前四段和最后一段为冗余信息\n",
    "    print('第%d段'%item, end='\\t')\n",
    "    if pl_test[item] is '':\n",
    "        print('这一段内容为空')\n",
    "        continue\n",
    "    else:\n",
    "        print(pl_test[item])"
   ]
  },
  {
   "cell_type": "code",
   "execution_count": 4,
   "id": "efficient-columbia",
   "metadata": {},
   "outputs": [
    {
     "name": "stdout",
     "output_type": "stream",
     "text": [
      "第0段 A public key infrastructure (PKI) supports the distribution, revocation and verification of public keys used for public key encryption, and enables linking of identities with public key certificates. A PKI enables users and systems to securely exchange data over the internet and verify the legitimacy of certificate-holding entities, such as webservers, other authenticated servers and individuals. The PKI enables users to authenticate digital certificate holders, as well as to mediate the process of certificate revocation, using cryptographic algorithms to secure the process.\n",
      "第1段 PKI certificates include a public key used for encryption and cryptographic authentication of data sent to or from the entity that was issued the certificate. Other information included in a PKI certificate includes identifying information about the certificate holder, about the PKI that issued the certificate, and other data including the certificate's creation date and validity period.\n",
      "第2段 Without PKI, sensitive information can still be , ensuring confidentiality, and exchanged between two entities, but there would be no assurance of the identity of the other party. Any form of sensitive data exchanged over the internet is reliant on the PKI for enabling the use of  because the PKI enables the authenticated exchange of .\n",
      "第3段 Elements of PKI\n",
      "第4段 A typical PKI includes the following key elements:\n",
      "第5段 A trusted party provides the root of trust for all PKI certificates and provides services that can be used to authenticate the identity of individuals, computers and other entities. Usually known as , these entities provide assurance about the parties identified in a PKI certificate. Each CA maintains its own root CA, for use only by the CA.\n",
      "第6段 A  (RA), often called a subordinate CA, issues PKI certificates. The RA is certified by a root CA and authorized to issue certificates for specific uses permitted by the root.\n",
      "第7段 A certificate database stores information about issued certificates. In addition to the certificate itself, the database includes validity period and status of each PKI certificate. Certificate revocation is done by updating this database, which must be queried to authenticate any data digitally signed or encrypted with the  of the certificate holder.\n",
      "第8段 A certificate store, which is usually permanently stored on a computer, can also be maintained in memory for applications that do not require that certificates be stored permanently. The certificate store enables programs running on the system to access stored certificates,  and certificate trust lists.\n",
      "第9段 A CA issues digital certificates to entities and individuals; applicants may be required to verify their identity with increasing degrees of assurance for certificates with increasing levels of validation. The issuing CA digitally signs certificates using its secret key; its public key and  are made available for authentication to all interested parties in a self-signed CA certificate. CAs use the trusted root certificate to create a \"chain of trust;\" many root certificates are embedded in web browsers so they have built-in trust of those CAs. Web servers, email clients, smartphones and many other types of hardware and software -- including IoT devices -- also support PKI and contain trusted root certificates from the major CAs.\n",
      "第10段 PKI certificates\n",
      "第11段 Along with an entity's or individual's public key, digital certificates contain information about the  used to create the signature, the person or entity identified, the digital signature of the CA that verified the subject data and issued the certificate, the purpose of the public key encryption, signature and certificate signing, as well as a date range during which the certificate can be considered valid.\n",
      "第12段 While PKI certificates are used for implementing cryptography over web and other internet connections, they are also used for other applications, including individual certification for code signing applications, for authenticating digital transactions and more.\n",
      "第13段 Problems with PKI\n",
      "第14段 PKI provides a chain of trust so that identities on a network can be verified. However, like any chain, a PKI is only as strong as its weakest link. There are various standards that cover aspects of PKI -- such as the Internet X.509 Public Key Infrastructure Certificate Policy and Certification Practices Framework (RFC 2527).\n",
      "第15段 The Certification Authority Browser Forum, also known as CA/Browser Forum, is an industry consortium founded in 2005 and whose members include CAs, browser software publishers and other system providers who use X.509 digital certificates for encryption and authentication. The CA/Browser Forum publishes guidelines and best practices for CAs, browser and other parties involved in the PKI as it relates to the use of digital certificates.\n",
      "第16段 Although a CA is often referred to as a \"trusted third party,\" shortcomings in the security procedures of various CAs in recent years has jeopardized trust in the entire PKI on which the internet depends. If one CA is compromised, the security of the entire PKI is at risk. For example, in 2011, Web browser vendors were forced to  all certificates issued by the Dutch CA DigiNotar after more than 500 fake certificates were discovered.\n",
      "第17段 In 2017, Google engineers identified problems with certificates issued through Symantec's CA business, which led to subsequent distrust of all certificates issued by Symantec prior to the sale of its CA business to DigiCert last year.\n",
      "第18段 A web of trust\n",
      "第19段 An alternative approach to using a CA to authenticate public key information is a decentralized trust model called a \"web of trust,\" a concept used in Pretty Good Privacy () and other OpenPGP-compatible systems. Instead of relying solely on a hierarchy of certificate authorities, certificates are signed by other users to endorse the association of that public key with the person or entity listed in the certificate.\n",
      "第20段 One problem with this method is a user has to trust all those in the key chain to be honest, so it’s often best suited to small, user communities. For example, an enterprise could use a web of trust for authenticating the identity of its internal and remote users and devices. It could also act as its own CA, using software such as Microsoft Certificate Services to issue and revoke digital certificates.\n"
     ]
    }
   ],
   "source": [
    "# 正式数据段落列表\n",
    "pl = [paragraph.text for paragraph in doc.paragraphs] # doc的段落组成的列表\n",
    "# 弹出段落[0, 1, 2, 24],剩余长度21\n",
    "pl.pop(0)\n",
    "pl.pop(0)\n",
    "pl.pop(0)\n",
    "pl.pop(-1)\n",
    "for index in range(len(pl)):\n",
    "    print('第%d段'%index, pl[index])"
   ]
  },
  {
   "cell_type": "code",
   "execution_count": 5,
   "id": "laden-terrace",
   "metadata": {},
   "outputs": [
    {
     "name": "stdout",
     "output_type": "stream",
     "text": [
      "第1段字符长度：581\n",
      "第2段字符长度：390\n",
      "第3段字符长度：337\n",
      "第4段字符长度：15\n",
      "第5段字符长度：50\n",
      "第6段字符长度：343\n",
      "第7段字符长度：175\n",
      "第8段字符长度：353\n",
      "第9段字符长度：304\n",
      "第10段字符长度：738\n",
      "第11段字符长度：16\n",
      "第12段字符长度：411\n",
      "第13段字符长度：261\n",
      "第14段字符长度：17\n",
      "第15段字符长度：327\n",
      "第16段字符长度：438\n",
      "第17段字符长度：436\n",
      "第18段字符长度：234\n",
      "第19段字符长度：14\n",
      "第20段字符长度：418\n",
      "第21段字符长度：405\n",
      "总字符长度：6263\n"
     ]
    }
   ],
   "source": [
    "# 只统计docx的英文字符部分\n",
    "sum_characters = 0\n",
    "i = 1\n",
    "for item in pl:\n",
    "    length = len(item)\n",
    "    sum_characters += length\n",
    "    print('第%d段字符长度：%d'%(i, length))\n",
    "    i += 1\n",
    "print('总字符长度：%d'%sum_characters)"
   ]
  },
  {
   "cell_type": "code",
   "execution_count": 6,
   "id": "specialized-charm",
   "metadata": {},
   "outputs": [],
   "source": [
    "# 创建字符字典\n",
    "statics_table = [\n",
    "                 'a', 'b', 'c', 'd', 'e', 'f', 'g', 'h', 'i', 'j', \\\n",
    "                 'k', 'l', 'm', 'n', 'o', 'p', 'q', 'r', 's', 't', \\\n",
    "                 'u', 'v', 'w', 'x', 'y', 'z', \\\n",
    "                 'A', 'B', 'C', 'D', 'E', 'F', 'G', 'H', 'I', 'J', \\\n",
    "                 'K', 'L', 'M', 'N', 'O', 'P', 'Q', 'R', 'S', 'T', \\\n",
    "                 'U', 'V', 'W', 'X', 'Y', 'Z', \\\n",
    "                 '0', '1', '2', '3', '4', '5', '6', '7', '8', '9', \\\n",
    "                 ' ', ',', '.', '(', ')', '-', '\\\"', '\\'', ':', ';', '/','’'\n",
    "                ]\n",
    "# 初始化一个字符字典\n",
    "statics_dic = {}\n",
    "for ch in statics_table:\n",
    "    statics_dic[ch] = 0\n",
    "\n",
    "# 统计字符数据，写入字符字典\n",
    "for item in pl:\n",
    "# for item in s:\n",
    "    for char in item:\n",
    "        if char in statics_table:\n",
    "            statics_dic[char] += 1\n",
    "        # 考虑编码上可能存在的问题\n",
    "        else:\n",
    "            if char == u'\\xa0': # Non-breaking space，'\\xa0' 属于latin1（ISO/IEC_8859-1）中的扩展字符集字符，即空格，需要单独处理\n",
    "                statics_dic[' '] += 1\n",
    "            else: # 最后价差是否漏记字符\n",
    "                print('未知',char)"
   ]
  },
  {
   "cell_type": "code",
   "execution_count": 7,
   "id": "simple-income",
   "metadata": {},
   "outputs": [
    {
     "name": "stdout",
     "output_type": "stream",
     "text": [
      "{'a': 372, 'b': 75, 'c': 246, 'd': 196, 'e': 632, 'f': 144, 'g': 66, 'h': 171, 'i': 484, 'j': 3, 'k': 24, 'l': 144, 'm': 65, 'n': 309, 'o': 308, 'p': 83, 'q': 4, 'r': 338, 's': 363, 't': 556, 'u': 161, 'v': 48, 'w': 50, 'x': 6, 'y': 86, 'z': 3, 'A': 40, 'B': 3, 'C': 31, 'D': 3, 'E': 2, 'F': 7, 'G': 3, 'H': 1, 'I': 33, 'J': 0, 'K': 26, 'L': 0, 'M': 1, 'N': 1, 'O': 3, 'P': 33, 'Q': 0, 'R': 3, 'S': 3, 'T': 8, 'U': 1, 'V': 0, 'W': 4, 'X': 2, 'Y': 0, 'Z': 0, '0': 8, '1': 3, '2': 5, '3': 0, '4': 0, '5': 5, '6': 0, '7': 2, '8': 0, '9': 2, ' ': 968, ',': 51, '.': 39, '(': 4, ')': 4, '-': 10, '\"': 6, \"'\": 4, ':': 1, ';': 3, '/': 2, '’': 1}\n"
     ]
    },
    {
     "data": {
      "text/plain": [
       "(6263, 6263)"
      ]
     },
     "execution_count": 7,
     "metadata": {},
     "output_type": "execute_result"
    }
   ],
   "source": [
    "print(statics_dic)\n",
    "sum([i for i in statics_dic.values()]), sum_characters # 判断是否有漏记的字符"
   ]
  },
  {
   "cell_type": "code",
   "execution_count": 8,
   "id": "removable-credit",
   "metadata": {},
   "outputs": [
    {
     "name": "stdout",
     "output_type": "stream",
     "text": [
      "74 [('a', 372), ('b', 75), ('c', 246), ('d', 196), ('e', 632), ('f', 144), ('g', 66), ('h', 171), ('i', 484), ('j', 3), ('k', 24), ('l', 144), ('m', 65), ('n', 309), ('o', 308), ('p', 83), ('q', 4), ('r', 338), ('s', 363), ('t', 556), ('u', 161), ('v', 48), ('w', 50), ('x', 6), ('y', 86), ('z', 3), ('A', 40), ('B', 3), ('C', 31), ('D', 3), ('E', 2), ('F', 7), ('G', 3), ('H', 1), ('I', 33), ('J', 0), ('K', 26), ('L', 0), ('M', 1), ('N', 1), ('O', 3), ('P', 33), ('Q', 0), ('R', 3), ('S', 3), ('T', 8), ('U', 1), ('V', 0), ('W', 4), ('X', 2), ('Y', 0), ('Z', 0), ('0', 8), ('1', 3), ('2', 5), ('3', 0), ('4', 0), ('5', 5), ('6', 0), ('7', 2), ('8', 0), ('9', 2), (' ', 968), (',', 51), ('.', 39), ('(', 4), (')', 4), ('-', 10), ('\"', 6), (\"'\", 4), (':', 1), (';', 3), ('/', 2), ('’', 1)]\n",
      "\n",
      "64 [('a', 372), ('b', 75), ('c', 246), ('d', 196), ('e', 632), ('f', 144), ('g', 66), ('h', 171), ('i', 484), ('j', 3), ('k', 24), ('l', 144), ('m', 65), ('n', 309), ('o', 308), ('p', 83), ('q', 4), ('r', 338), ('s', 363), ('t', 556), ('u', 161), ('v', 48), ('w', 50), ('x', 6), ('y', 86), ('z', 3), ('A', 40), ('B', 3), ('C', 31), ('D', 3), ('E', 2), ('F', 7), ('G', 3), ('H', 1), ('I', 33), ('K', 26), ('M', 1), ('N', 1), ('O', 3), ('P', 33), ('R', 3), ('S', 3), ('T', 8), ('U', 1), ('W', 4), ('X', 2), ('0', 8), ('1', 3), ('2', 5), ('5', 5), ('7', 2), ('9', 2), (' ', 968), (',', 51), ('.', 39), ('(', 4), (')', 4), ('-', 10), ('\"', 6), (\"'\", 4), (':', 1), (';', 3), ('/', 2), ('’', 1)]\n",
      "6263 6263\n"
     ]
    }
   ],
   "source": [
    "# 清洗数据，删除未出现的字符\n",
    "statics_list = []\n",
    "statics = list(statics_dic.items())\n",
    "\n",
    "for item in statics:\n",
    "    if item[1] != 0:\n",
    "        statics_list.append(item)\n",
    "\n",
    "print(len(statics), statics)\n",
    "print()\n",
    "print(len(statics_list), statics_list)\n",
    "\n",
    "ver = 0\n",
    "for item in statics_list:\n",
    "    ver += item[1]\n",
    "print(ver, sum_characters)"
   ]
  },
  {
   "cell_type": "code",
   "execution_count": null,
   "id": "derived-saturday",
   "metadata": {},
   "outputs": [],
   "source": []
  },
  {
   "cell_type": "markdown",
   "id": "early-butter",
   "metadata": {},
   "source": [
    "# 2、HuffMan树构造"
   ]
  },
  {
   "cell_type": "markdown",
   "id": "documentary-fifteen",
   "metadata": {},
   "source": [
    "## 编码步骤\n",
    "<br> 1.符号按概率大到小排序，权重为概率； <br>\n",
    "<br> 2.取概率最小的字符作为左结点，其次小的符号为右结点； <br>\n",
    "<br> 3.将2中两个(最小)元素合并作为新的结点，权重为概率和； <br>\n",
    "<br> 4.新结点和剩余结点重新排序； <br>\n",
    "<br> 5.重复步骤(2),直到待排列的结点只剩一个（即为根结点）； <br>\n",
    "<br> 6.最后产生的树状图就是Huffman树； <br>\n",
    "<br> 7.左节点为0，右节点为1，从根节点到子节点的一条路径即是符号的码字； <br>"
   ]
  },
  {
   "cell_type": "code",
   "execution_count": 9,
   "id": "protective-utility",
   "metadata": {},
   "outputs": [],
   "source": [
    "# 定义结点类\n",
    "class Node(object):\n",
    "    def __init__(self, name=None, value=None):\n",
    "        self.name = name\n",
    "        self.value = value\n",
    "        self.parent = None\n",
    "        self.left = None\n",
    "        self.right = None"
   ]
  },
  {
   "cell_type": "code",
   "execution_count": 10,
   "id": "marked-independence",
   "metadata": {},
   "outputs": [],
   "source": [
    "# 哈夫曼树类\n",
    "class HuffmanTree(object):\n",
    "    # 根据Huffman树的思想：以结点为基础，建立Huffman树\n",
    "    def __init__(self, statics):\n",
    "        # 叶子结点列表\n",
    "        self.Leaf = [Node(part[0], part[1]) for part in statics]\n",
    "        # huffman树结点列表，根结点为最后一个元素\n",
    "        self.tree_node = []\n",
    "        while len(self.Leaf)!=2:\n",
    "            self.Leaf.sort(key=lambda node:node.value) # 从小到大排序\n",
    "            tmp = Node(value=(self.Leaf[0].value + self.Leaf[1].value))\n",
    "            # Leaf[0]为右结点，Leaf[1]为左结点\n",
    "            # 绑定父子关系\n",
    "            tmp.right = self.Leaf[0]\n",
    "            tmp.left = self.Leaf[1]\n",
    "            self.Leaf[0].parent = tmp\n",
    "            self.Leaf[1].parent = tmp \n",
    "            # 压入huffman树\n",
    "            self.tree_node.append(self.Leaf[0])\n",
    "            self.tree_node.append(self.Leaf[1])\n",
    "            # 将已经处理的叶子结点弹出结点列表\n",
    "            self.Leaf.pop(0)\n",
    "            self.Leaf.pop(0)\n",
    "            self.Leaf.append(tmp)\n",
    "            \n",
    "        # 最后一个元素，按照叶子结点列表长度判断结束，不需要计算概率值和为1\n",
    "        tmp = Node(name='root', value=(self.Leaf[0].value + self.Leaf[1].value))\n",
    "        tmp.right = self.Leaf[0]\n",
    "        tmp.left = self.Leaf[1]        \n",
    "        self.Leaf[0].parent = tmp\n",
    "        self.Leaf[1].parent = tmp\n",
    "        self.tree_node.append(self.Leaf[0])\n",
    "        self.tree_node.append(self.Leaf[1])\n",
    "        self.tree_node.append(tmp)"
   ]
  },
  {
   "cell_type": "markdown",
   "id": "spread-essay",
   "metadata": {},
   "source": [
    "## 一个测试的样例\n",
    "![](example.png)"
   ]
  },
  {
   "cell_type": "markdown",
   "id": "operating-salmon",
   "metadata": {},
   "source": [
    "### 测试编码"
   ]
  },
  {
   "cell_type": "code",
   "execution_count": 11,
   "id": "correct-blood",
   "metadata": {},
   "outputs": [],
   "source": [
    "statics_test = [('s7', 0.01), ('s6', 0.10), ('s5', 0.15), \\\n",
    "           ('s4', 0.17), ('s3', 0.18), ('s2', 0.19), \\\n",
    "           ('s1', 0.20)]\n",
    "tree_test = HuffmanTree(statics_test)"
   ]
  },
  {
   "cell_type": "code",
   "execution_count": 12,
   "id": "quality-thursday",
   "metadata": {},
   "outputs": [
    {
     "name": "stdout",
     "output_type": "stream",
     "text": [
      "s7 0.01\n",
      "s6 0.1\n",
      "None 0.11\n",
      "s5 0.15\n",
      "s4 0.17\n",
      "s3 0.18\n",
      "s2 0.19\n",
      "s1 0.2\n",
      "None 0.26\n",
      "None 0.35\n",
      "None 0.39\n",
      "None 0.61\n",
      "root 1.0\n"
     ]
    }
   ],
   "source": [
    "for node in tree_test.tree_node:\n",
    "    print(node.name, node.value)"
   ]
  },
  {
   "cell_type": "code",
   "execution_count": 13,
   "id": "aggregate-shape",
   "metadata": {},
   "outputs": [
    {
     "name": "stdout",
     "output_type": "stream",
     "text": [
      "2211381154816 s7 0.01 2211381156720\n",
      "2211381157392 s6 0.1 2211381156720\n",
      "2211381156720 None 0.11 2211381494000\n",
      "2211381156776 s5 0.15 2211381494000\n",
      "2211381155320 s4 0.17 2211381494056\n",
      "2211381493832 s3 0.18 2211381494056\n",
      "2211381493888 s2 0.19 2211381494112\n",
      "2211381493944 s1 0.2 2211381494112\n",
      "2211381494000 None 0.26 2211381494168\n",
      "2211381494056 None 0.35 2211381494168\n",
      "2211381494112 None 0.39 2211381494224\n",
      "2211381494168 None 0.61 2211381494224\n",
      "2211381494224 root 1.0 1641454896\n"
     ]
    }
   ],
   "source": [
    "# 当前结点地址，当前结点name，当前结点value，父结点地址\n",
    "for node in tree_test.tree_node:\n",
    "    print(id(node), node.name, node.value, id(node.parent))"
   ]
  },
  {
   "cell_type": "code",
   "execution_count": 14,
   "id": "developmental-judgment",
   "metadata": {},
   "outputs": [
    {
     "data": {
      "text/plain": [
       "[['s7', '0111'],\n",
       " ['s6', '0110'],\n",
       " ['s5', '010'],\n",
       " ['s4', '001'],\n",
       " ['s3', '000'],\n",
       " ['s2', '11'],\n",
       " ['s1', '10']]"
      ]
     },
     "execution_count": 14,
     "metadata": {},
     "output_type": "execute_result"
    }
   ],
   "source": [
    "encode_table_test = []\n",
    "for node in tree_test.tree_node:\n",
    "    if node.name != None and node.name != 'root': # 选择出叶子结点\n",
    "        ch = node.name\n",
    "        leaf = node\n",
    "        if leaf.parent: # 判断有无父结点\n",
    "            parent = leaf.parent\n",
    "        \n",
    "        code = ''\n",
    "        \n",
    "        while True:\n",
    "            if parent.left == leaf: # 左结点为1\n",
    "                code += '0'\n",
    "            else: # 右结点为0 \n",
    "                code += '1'\n",
    "            \n",
    "            leaf = parent\n",
    "            if leaf.parent: # 判断有无父结点\n",
    "                parent = leaf.parent\n",
    "            else:\n",
    "                break\n",
    "        \n",
    "        # print(ch, code[::-1]) # 逆序\n",
    "        encode_table_test.append([ch, code[::-1]])\n",
    "    else:\n",
    "        pass\n",
    "encode_table_test"
   ]
  },
  {
   "cell_type": "code",
   "execution_count": 15,
   "id": "excellent-suite",
   "metadata": {},
   "outputs": [
    {
     "name": "stdout",
     "output_type": "stream",
     "text": [
      "011101100100010001110\n"
     ]
    }
   ],
   "source": [
    "encoded_test = ''\n",
    "for item in encode_table_test:\n",
    "    encoded_test += str(item[1])\n",
    "print(encoded_test)"
   ]
  },
  {
   "cell_type": "markdown",
   "id": "legislative-decimal",
   "metadata": {},
   "source": [
    "### 测试解码"
   ]
  },
  {
   "cell_type": "code",
   "execution_count": 16,
   "id": "buried-hearing",
   "metadata": {},
   "outputs": [
    {
     "name": "stdout",
     "output_type": "stream",
     "text": [
      "011101100100010001110 s7s6s5s4s3s2s1\n"
     ]
    }
   ],
   "source": [
    "root = tree_test.tree_node[-1] # 最后一个结点是根结点\n",
    "tmp = root\n",
    "decode_test = ''\n",
    "\n",
    "for bit in encoded_test:\n",
    "    if tmp.name == None or tmp.name == 'root':\n",
    "        if bit == '1': # 右结点\n",
    "            tmp = tmp.right\n",
    "        else: #左结点\n",
    "            tmp = tmp.left\n",
    "        \n",
    "        # 当前结点的父结点\n",
    "        if tmp.name != None and tmp.name != 'root': # 叶子结点\n",
    "            decode_test += tmp.name\n",
    "            tmp = root\n",
    "print(encoded_test, decode_test)"
   ]
  },
  {
   "cell_type": "markdown",
   "id": "increased-maria",
   "metadata": {},
   "source": [
    "# 3、正式编码"
   ]
  },
  {
   "cell_type": "code",
   "execution_count": 17,
   "id": "enclosed-satellite",
   "metadata": {},
   "outputs": [],
   "source": [
    "# 创建huffman树\n",
    "huffmantree = HuffmanTree(statics_list)"
   ]
  },
  {
   "cell_type": "code",
   "execution_count": 18,
   "id": "fifty-honduras",
   "metadata": {},
   "outputs": [
    {
     "name": "stdout",
     "output_type": "stream",
     "text": [
      "H 1\tM 1\tN 1\tU 1\t: 1\t’ 1\tE 2\tX 2\t7 2\t9 2\t/ 2\tNone 2\tNone 2\tNone 2\tj 3\tz 3\tB 3\tD 3\tG 3\tO 3\tR 3\tS 3\t1 3\t; 3\tq 4\tW 4\t( 4\t) 4\t' 4\tNone 4\tNone 4\tNone 4\tNone 4\t2 5\t5 5\tx 6\t\" 6\tNone 6\tNone 6\tNone 6\tNone 6\tNone 6\tF 7\tT 8\t0 8\tNone 8\tNone 8\tNone 8\tNone 8\tNone 9\t- 10\tNone 11\tNone 12\tNone 12\tNone 12\tNone 15\tNone 16\tNone 16\tNone 17\tNone 21\tk 24\tNone 24\tK 26\tNone 27\tC 31\tNone 32\tI 33\tP 33\tNone 38\t. 39\tA 40\tv 48\tNone 48\tw 50\t, 51\tNone 53\tNone 63\tm 65\tg 66\tNone 66\tb 75\tNone 77\tp 83\ty 86\tNone 88\tNone 98\tNone 104\tNone 128\tNone 132\tf 144\tl 144\tNone 152\tu 161\tNone 169\th 171\tNone 186\td 196\tNone 232\tc 246\tNone 276\tNone 296\to 308\tn 309\tNone 330\tr 338\tNone 357\ts 363\ta 372\tNone 428\ti 484\tNone 522\tt 556\tNone 604\te 632\tNone 639\tNone 695\tNone 735\tNone 912\t  968\tNone 1078\tNone 1236\tNone 1334\tNone 1647\tNone 2046\tNone 2570\tNone 3693\troot 6263\t"
     ]
    }
   ],
   "source": [
    "for node in huffmantree.tree_node:\n",
    "    print(node.name, node.value, end='\\t')"
   ]
  },
  {
   "cell_type": "code",
   "execution_count": 19,
   "id": "preliminary-driving",
   "metadata": {},
   "outputs": [
    {
     "name": "stdout",
     "output_type": "stream",
     "text": [
      "2211381495288 \t H \t 1 \t 2211381232864\n",
      "2211381495232 \t M \t 1 \t 2211381232864\n",
      "2211381495176 \t N \t 1 \t 2211381496968\n",
      "2211381497752 \t U \t 1 \t 2211381496968\n",
      "2211381496352 \t : \t 1 \t 2211381497640\n",
      "2211381497024 \t ’ \t 1 \t 2211381497640\n",
      "2211381496072 \t E \t 2 \t 2211381497696\n",
      "2211381494784 \t X \t 2 \t 2211381497696\n",
      "2211381496240 \t 7 \t 2 \t 2211381497584\n",
      "2211381496408 \t 9 \t 2 \t 2211381497584\n",
      "2211381496912 \t / \t 2 \t 2211381448776\n",
      "2211381232864 \t None \t 2 \t 2211381448776\n",
      "2211381496968 \t None \t 2 \t 2211381448832\n",
      "2211381497640 \t None \t 2 \t 2211381448832\n",
      "2211381233424 \t j \t 3 \t 2211381448888\n",
      "2211381495400 \t z \t 3 \t 2211381448888\n",
      "2211381495904 \t B \t 3 \t 2211381448944\n",
      "2211381496128 \t D \t 3 \t 2211381448944\n",
      "2211381495960 \t G \t 3 \t 2211381449000\n",
      "2211381494840 \t O \t 3 \t 2211381449000\n",
      "2211381495568 \t R \t 3 \t 2211381449056\n",
      "2211381495680 \t S \t 3 \t 2211381449056\n",
      "2211381494728 \t 1 \t 3 \t 2211381449112\n",
      "2211381496856 \t ; \t 3 \t 2211381449112\n",
      "2211381494280 \t q \t 4 \t 2211381449168\n",
      "2211381494616 \t W \t 4 \t 2211381449168\n",
      "2211381496632 \t ( \t 4 \t 2211381449224\n",
      "2211381496688 \t ) \t 4 \t 2211381449224\n",
      "2211381496296 \t ' \t 4 \t 2211381449280\n",
      "2211381497696 \t None \t 4 \t 2211381449280\n",
      "2211381497584 \t None \t 4 \t 2211381449336\n",
      "2211381448776 \t None \t 4 \t 2211381449336\n",
      "2211381448832 \t None \t 4 \t 2211381449392\n",
      "2211381495848 \t 2 \t 5 \t 2211381449392\n",
      "2211381495008 \t 5 \t 5 \t 2211381449448\n",
      "2211381494560 \t x \t 6 \t 2211381449448\n",
      "2211381496576 \t \" \t 6 \t 2211381449504\n",
      "2211381448888 \t None \t 6 \t 2211381449504\n",
      "2211381448944 \t None \t 6 \t 2211381449560\n",
      "2211381449000 \t None \t 6 \t 2211381449560\n",
      "2211381449056 \t None \t 6 \t 2211381449616\n",
      "2211381449112 \t None \t 6 \t 2211381449616\n",
      "2211381495792 \t F \t 7 \t 2211381449672\n",
      "2211381494336 \t T \t 8 \t 2211381449672\n",
      "2211381496800 \t 0 \t 8 \t 2211381449728\n",
      "2211381449168 \t None \t 8 \t 2211381449728\n",
      "2211381449224 \t None \t 8 \t 2211381449784\n",
      "2211381449280 \t None \t 8 \t 2211381449784\n",
      "2211381449336 \t None \t 8 \t 2211381449840\n",
      "2211381449392 \t None \t 9 \t 2211381449840\n",
      "2211381496744 \t - \t 10 \t 2211381449896\n",
      "2211381449448 \t None \t 11 \t 2211381449896\n",
      "2211381449504 \t None \t 12 \t 2211381449952\n",
      "2211381449560 \t None \t 12 \t 2211381449952\n",
      "2211381449616 \t None \t 12 \t 2211381450008\n",
      "2211381449672 \t None \t 15 \t 2211381450008\n",
      "2211381449728 \t None \t 16 \t 2211381450064\n",
      "2211381449784 \t None \t 16 \t 2211381450064\n",
      "2211381449840 \t None \t 17 \t 2211381450120\n",
      "2211381449896 \t None \t 21 \t 2211381450120\n",
      "2211381235552 \t k \t 24 \t 2211381450176\n",
      "2211381449952 \t None \t 24 \t 2211381450176\n",
      "2211381495120 \t K \t 26 \t 2211381450232\n",
      "2211381450008 \t None \t 27 \t 2211381450232\n",
      "2211381496016 \t C \t 31 \t 2211381450288\n",
      "2211381450064 \t None \t 32 \t 2211381450288\n",
      "2211381495064 \t I \t 33 \t 2211381450344\n",
      "2211381495624 \t P \t 33 \t 2211381450344\n",
      "2211381450120 \t None \t 38 \t 2211381450400\n",
      "2211381496464 \t . \t 39 \t 2211381450400\n",
      "2211381495736 \t A \t 40 \t 2211381450456\n",
      "2211381494504 \t v \t 48 \t 2211381450456\n",
      "2211381450176 \t None \t 48 \t 2211381450512\n",
      "2211381494672 \t w \t 50 \t 2211381450512\n",
      "2211381496520 \t , \t 51 \t 2211381450568\n",
      "2211381450232 \t None \t 53 \t 2211381450568\n",
      "2211381450288 \t None \t 63 \t 2211381450624\n",
      "2211381232192 \t m \t 65 \t 2211381450624\n",
      "2211381232920 \t g \t 66 \t 2211381450680\n",
      "2211381450344 \t None \t 66 \t 2211381450680\n",
      "2211381235384 \t b \t 75 \t 2211381450736\n",
      "2211381450400 \t None \t 77 \t 2211381450736\n",
      "2211381495344 \t p \t 83 \t 2211381450792\n",
      "2211381494392 \t y \t 86 \t 2211381450792\n",
      "2211381450456 \t None \t 88 \t 2211381450848\n",
      "2211381450512 \t None \t 98 \t 2211381450848\n",
      "2211381450568 \t None \t 104 \t 2211381450904\n",
      "2211381450624 \t None \t 128 \t 2211381450904\n",
      "2211381450680 \t None \t 132 \t 2211381450960\n",
      "2211381232808 \t f \t 144 \t 2211381450960\n",
      "2211381235440 \t l \t 144 \t 2211381451016\n",
      "2211381450736 \t None \t 152 \t 2211381451016\n",
      "2211381494952 \t u \t 161 \t 2211381451072\n",
      "2211381450792 \t None \t 169 \t 2211381451072\n",
      "2211381233256 \t h \t 171 \t 2211381451128\n",
      "2211381450848 \t None \t 186 \t 2211381451128\n",
      "2211381235664 \t d \t 196 \t 2211381451184\n",
      "2211381450904 \t None \t 232 \t 2211381451184\n",
      "2211381233088 \t c \t 246 \t 2211381451240\n",
      "2211381450960 \t None \t 276 \t 2211381451240\n",
      "2211381451016 \t None \t 296 \t 2211381451296\n",
      "2211381495512 \t o \t 308 \t 2211381451296\n",
      "2211381497808 \t n \t 309 \t 2211381451352\n",
      "2211381451072 \t None \t 330 \t 2211381451352\n",
      "2211381495456 \t r \t 338 \t 2211381451408\n",
      "2211381451128 \t None \t 357 \t 2211381451408\n",
      "2211381494896 \t s \t 363 \t 2211381451464\n",
      "2211381235496 \t a \t 372 \t 2211381451464\n",
      "2211381451184 \t None \t 428 \t 2211381451520\n",
      "2211381231968 \t i \t 484 \t 2211381451520\n",
      "2211381451240 \t None \t 522 \t 2211381451576\n",
      "2211381494448 \t t \t 556 \t 2211381451576\n",
      "2211381451296 \t None \t 604 \t 2211381451632\n",
      "2211381231856 \t e \t 632 \t 2211381451632\n",
      "2211381451352 \t None \t 639 \t 2211381451688\n",
      "2211381451408 \t None \t 695 \t 2211381451688\n",
      "2211381451464 \t None \t 735 \t 2211381451744\n",
      "2211381451520 \t None \t 912 \t 2211381451744\n",
      "2211381496184 \t   \t 968 \t 2211381451800\n",
      "2211381451576 \t None \t 1078 \t 2211381451800\n",
      "2211381451632 \t None \t 1236 \t 2211381451856\n",
      "2211381451688 \t None \t 1334 \t 2211381451856\n",
      "2211381451744 \t None \t 1647 \t 2211381451912\n",
      "2211381451800 \t None \t 2046 \t 2211381451912\n",
      "2211381451856 \t None \t 2570 \t 2211381451968\n",
      "2211381451912 \t None \t 3693 \t 2211381451968\n",
      "2211381451968 \t root \t 6263 \t 1641454896\n"
     ]
    }
   ],
   "source": [
    "# 当前结点地址，当前结点name，当前结点value，父结点地址\n",
    "for node in huffmantree.tree_node:\n",
    "    print(id(node), '\\t' ,node.name, '\\t' ,node.value, '\\t' ,id(node.parent))"
   ]
  },
  {
   "cell_type": "code",
   "execution_count": 20,
   "id": "permanent-celebrity",
   "metadata": {},
   "outputs": [
    {
     "name": "stdout",
     "output_type": "stream",
     "text": [
      "{'H': '111100111001', 'M': '111100111000', 'N': '111100110111', 'U': '111100110110', ':': '111100110101', '’': '111100110100', 'E': '010100100001', 'X': '010100100000', '7': '11110011111', '9': '11110011110', '/': '11110011101', 'j': '10000010101', 'z': '10000010100', 'B': '10000010011', 'D': '10000010010', 'G': '10000010001', 'O': '10000010000', 'R': '01010100111', 'S': '01010100110', '1': '01010100101', ';': '01010100100', 'q': '01010010101', 'W': '01010010100', '(': '01010010011', ')': '01010010010', \"'\": '01010010001', '2': '1111001100', '5': '1111001001', 'x': '1111001000', '\"': '1000001011', 'F': '0101010001', 'T': '0101010000', '0': '0101001011', '-': '111100101', 'k': '10000011', 'K': '01010101', 'C': '01010011', 'I': '00010101', 'P': '00010100', '.': '1111000', 'A': '1000011', 'v': '1000010', 'w': '1000000', ',': '0101011', 'm': '0101000', 'g': '0001011', 'b': '111101', 'p': '101001', 'y': '101000', 'f': '000100', 'l': '11111', 'u': '10101', 'h': '10001', 'd': '01011', 'c': '00011', 'o': '1110', 'n': '1011', 'r': '1001', 's': '0111', 'a': '0110', 'i': '0100', 't': '0000', 'e': '110', ' ': '001'}\n"
     ]
    }
   ],
   "source": [
    "# 创建编码表\n",
    "huffman_encode_table = []\n",
    "huffman_encode_table_dic = {}\n",
    "\n",
    "for node in huffmantree.tree_node:\n",
    "    if node.name != None and node.name != 'root': # 选择出叶子结点\n",
    "        ch = node.name\n",
    "        leaf = node\n",
    "        if leaf.name != 'root': # 判断有无父结点\n",
    "            parent = leaf.parent\n",
    "        code = ''\n",
    "        \n",
    "        while True:\n",
    "            if parent.left == leaf: # 左结点为1\n",
    "                code += '0'\n",
    "            \n",
    "            else: # 右结点为0 \n",
    "                code += '1'\n",
    "            \n",
    "            leaf = parent\n",
    "            if leaf.name != 'root': # 判断有无父结点\n",
    "                parent = leaf.parent\n",
    "            else:\n",
    "                break\n",
    "        \n",
    "        huffman_encode_table.append([ch, code[::-1]])\n",
    "    else:\n",
    "        pass\n",
    "\n",
    "# 列表转为字典\n",
    "for item in huffman_encode_table:\n",
    "    huffman_encode_table_dic[item[0]] = item[1]\n",
    "print(huffman_encode_table_dic)"
   ]
  },
  {
   "cell_type": "code",
   "execution_count": 21,
   "id": "otherwise-architect",
   "metadata": {},
   "outputs": [
    {
     "name": "stdout",
     "output_type": "stream",
     "text": [
      "100001100110100110101111101111110100000110011000001111010100000101001011000100100101100111000010011010100011000010101100111000101010010011000101000101010100010101010100100100010111101011010011010011110100100000111001000010001110001010110100011100001001010011110110101000001001110101101010110011001110100001011100001101100000010011101011001011010110101100110000101101001010000010001000001101100000010011101011001111000010000110100110101111101111110100000110011000001111010100001110011010101111100101100100010011101001001101001101011111011111101000001100110000011110101000001110101100011100110100010100100000100111010110101011001011010110101100111010110110111101111111100111001111110100101110000011010010110001011001111000010000101000101111010110000010000000100110011100110000000100000010001001101001101011111011111101000001100110000011110101000001000111101001000001000001000100000110110000011001111111000001100001100100010100010101010001010100111010110110111101111111100111001101010111110100101110010110101101011001011110100001110000110010100001110010000111000101111100001110101100111011111101000001110111100100000011100010110101100010111100010101101100000011000111101000010110100100100001000111000101001011000011010011011110000000101101011010110011000010110100101000001001010000010000100011100011111111000010110100000001000101000011000011101000001111000010000100011110100100000100000100010000011011000001101111001011000111101111101011010010110001011001110101100000100000001001100111010101100101111010100011100010010110011100110000001101111010111110100110000101101001011101010110011110000010001110100100101101010100001000111010110000010000011011000001100101100101111101001100001011010010111001011010110101100101001011010110100100001001000101110101011011111011111110000010101010000100011100010001010001010101000101010011101011011011110111111110011100110101011111010010111001000011100010110101010000100011101011000001000001101100000110001010110100000101101000000011011111001000111101001000001000001000100000110110000011000110001111011111010111101001011101010110010110011100110000001101111111111001011001110010000111000101010001100101101000110000011000100001000111000110100110011110000111100111011100111100001000010001111010010000010000010001000001101100000110001100111010000101110000110110000001001110101101010110011010101110100101100010110010001110011010001010010000111000010111001011010100110001010000011001011011111000101111101001010000001000101010000111001000011100010111110000111010110011100010000100011100011010011001111000011110011101111111000\n",
      "0001010001010101000101010010001111010010000010000010001000001101100000110011100101001011000111111110101010111100010110001101001101011111011111101000001100110000011110101000001101010111110010110010001001110100100111010110001110011010001010010000010011101011001011010110101100100011100110100010100100001110000101110010110101001100010100000110010110101010000100011101011000001000001101100000010011101011001111000010000101011011000000110001011111010110000001000011100011110100100100010010011110010100000100001000111000111010110000010000001010000010000100010110000000110000000110011100101000111011110101110010110010000100011100010001111010010000010000010001000001101100000110111100000110000010000000010001110100100101001011000100111010010101000011000000100111010110010100101100011111111010101011110010110010100101100101100010001010001010101000101010010001111010010000010000010001000001101100000110001010010110001111111101010101111001110010100010111101011000001000001001010000100101100010110010100101100010011101001010100001100000010011101011001011011110111101010100000010000100011100010001111010010000010000010001000001101100000110001100011110111110101111010010101011001011011110111101010100000010000100011100010001010001010101000101010010000100010110000000101000111011110101110010110010000100011100010001111010010000010000010001000001101100000110010101100101101011010110011110000010001110100100101011011000000110001010010110001111111101010101101001011000101100100001000111000100011110100100000100000100010000011011000001100101001000101110010001110011100110000001001110101100101011011000001100010110101101011001100001001101111101000101101000000101000001101001110100101001110010111111000\n",
      "01010010100010000001000111101010100000010001010001010101000101010101011001011111010110111010000000100100001011000101001011000100111010010101000011000000100111010110010001101101011001011100000100111111111100111110111000101010110011101011011110101100101001011000101100100011111010110001000100010111101011000001000110111110100000010100001010110010110101101011001110111100100000011100010110101100010111100101100111110111000001000000110110101100100001000000111000111010110000010000000100110011101010110011111011010100000010000100011101001110001100000011101010111111010110011111011100011011111000101100111011110101100101101011000111100011110000100001000010001110001010001011110101100000100000010100000111100001000010000100011100011110000010001110100100110100101101001000010100011110000011000011101110100000100010011101001010100000111100001000010111110101101110100000001001000010110001010110110000001100011101111001000000111000101101011000101111001011001111010000101101001001000010001110001010010110000110100110111100000001010001110011001110111110100011010110000001111010110010000100011100010001010001010101000101010010001001110100100111010110110111101111110100101100010110010000100011100011010101111100011110000100001001111101110000110110101010111110001000010001110001000101000101010100010101001110101101101111011111111001110010000100011100010110101010000100011101011000001000001101100000110010110011101111001000000111000101101011000101111000111100001000011111000\n",
      "0101001000011111111001010001101011000001110011110000100001000101000101010100010101\n",
      "1000011001000010100010100101000001101101111100100010100010101010001010100101001011000111111110101010111100111001000010001110001000100111011111111111110100000001001011000101100110000011110101000001110111111100101000110101100000111111100110101\n",
      "100001100100001001101010111000011001011001101001011010010000101000001101001100111101000010010001011110011100100001000111000110011110111000000011110000100001000010011010101110000001000100111010010010110111111111100100010100010101010001010100100011110100100000100000100010000011011000001100111001011010110101100110100110011110100001001000101111001110010111110100110000100100000111100111001000010001011000000010001101101011001111101110001101010111110010110010000111000101101010100001000111010110000010000011011000001100010000100011100010100010111101011000001000000101000001111000010000101001011010110100100001001000101110101011011111011101010110010001111100101000101001101010000110100101110010110101101011001111000001000111010010011101011000001000000010011001111111000001111100110110011110101011011111111111010000011000001110111110100000010110010110011100101010110010000100011100111110001110101100000100000001001100111001101001100111101000010010001011110001011001110111101011001011010110001111000101101111011110101010000001000010001110001101001011010010000010011001110010100010111101011000001000001000100110010110010100101100101100010001010001010101000101010010001111010010000010000010001000001101100000110111100000101010010000101100001110001001010100111000011001010100001100100101100000110010010110111001010000000111001111010000001011001100111101110000000101010011100001101010110010001001110100100110101011111000111101011111111010000011111011010000010000100011100010101001110000111111000\n",
      "1000011001001010100100110101010011110000110101001001001010110011110000100000011010110010001101101111111111110010110010110001011110101111101111010010101101001011011000001100010101001110000110101011001010001110111101011100111001000101000101010100010101001000111101001000001000001000100000110110000011001111111000001010101000010001110001010101001111000011001010001110010001111010010000010000010001001100101100111110110100000101100011001111011100000001010100111000011001011010110101100101101010100001000111101001010010000010100110010110010000111000101000111011110101110001000111101001000001000001000100000110110000011001110010001001110100100101111010011100001101000001000100000110011010101111100111001101001110100101010000100000000001100101100111110110100000100001000111000110011110111000001111000\n",
      "10000110010001111010010000010000010001000001101100000110001010110110000001101111010110011111000101110000111010011100111001010010110001001110100101010000110000001001110101100101101111011110101010000001010001110111101011100101100100011110100100000100000100010000011011000001100111111100000100010101101100101100101101011010000000100111010110010000111000100001000111000100011110100100000100000100010000011011000001100010100000001111101111100010001010110010000100011100010101101100000011011110101100111110001010010110001111111101010101111001110011000010011011111010001011010000001010000011010011101001010011100101100101101011010110010111000001100000101010111001111000010000111001100001110001001000101000101010100010101001000111101001000001000001000100000110110000011011110000010101001111010010000010000010001000001101100000110001100111010000101110000110110000001001110101100101000111001010111110101111000111110110100000110101101001010110110000001001011000101100100001000101000111001010110110000001101111010110011111001010110011000000100010100000111000100101010001010101110000001111101110001010100101011010111010010100110010110010000111000101101010100001000111010110000010000011011000001100010110101110100000101011011000000110001010110100000101101000000011011111111111010000010111010000010111011110010110011110100100111010110001110011010001010010000110010110011000000010000001000100100001000111000100111100001000010000100011100010001111010010000010000010001000001101100000110001100011110111110101111010011111000\n",
      "1000011001000111101001000001000001000100000110110000011000101110000111010011100101011001100000010001010000011100010010100011100110101011110101011011111111111010000011010011101001010100001101011110101100001111110100000101110000111010011100101100111101011001011000100011111001010001010011010100001101001010101100100011011010110010110111110111111000111110111000101010000110010010110000011001001011110010110010100101100101010001100101000111010011010000010001001110100100101101010011010011111101000001101100000010011101011011100100001000101100000001010111110001101111100000001100111001010010101101010100100111000100001000101100000001000111101001000001000001000100000110110000011001110011111011100010111000011101001110010110011010011101001010100001101011110101100001111110100011110000010101010000100011100010001111010010000010000010001000001101100000110001011100001110100111000111010110110111101111111100111001101001100111100001011100101100101000011100110011010110111011010010110001011001111010110010000100011100010111101000011100001100101000001000011100010110000110001111001110111001011100001110100111001011001000111101001000001000001000100000110110000011001110101011001001011010110101100100011110100100000100000100010000011011000001100010000100110101011100000011111101000111000001111111000\n",
      "10000110010101001110000110010100011101111010111001110010101101000001011010000000110111110010001111010010000010000010001000001101100000110011100100001110001110101100000100000001001100111001011010110101100101001011010110100100001001000101110101011011111011101010100100001011010100110100111111010000011011010110000011100101010000110101000001111101110001100111001010010101101010100100111001011001000011100011000010110100101000001001010000010000100011100100100100101000101111010110000010000001010000011000000010000001000100101001011000111001110011001110100101100010110010101111000010111001110110011100111100001000010110011101111010110010110101100011110001000100111010010010001111010010000010000010001000001101100000110011100110000000100000010001001010010110001110011100110011101001011000101100111111110100001011011111011100111100001000011000010011011111010001011011000000100111010111111000001010101000010001110001010001110111101010100101100010110010101001110000110010101101000001011010000000110111111111110100000101110100000101110110111001000111101001000001000001000100000110110000011001110011010101110100101100010110010100000001110010111110000111001110000000110000011110101000010101001000010100000001110011010011010111110111111010000011001100000111101010000010110101101011001001011010011100010101000011001011110001011010000100110010011111011011110111111110001000100111010010010110101010000100011101011000001000001101100000010011101011001000011100010110111111111100101001011000011010011100111000011001011001101001011010010000010011001110010100101100101100010111110111110001001111001010111010000010111011110010110010101001110000110010001111010010000010000010001000001101100000110111100000101010011100001101110011010101111100010000100011100010000100110101011100001100101100110011110111000000010001111010010000010000010001000001101100000110001000011100010001110011100110000011000101100011000001011000111000101100100101100111100001000010000100110101011100000101010010010000010110010101000011010111010000011001111011100000001000111101001000001000001000100000110110000011001110010110100111000111001010001111011100101101011110010110010100101100110000001101111010011111011001111010000000111110100101110010111111000100001000111010100000110001011010000101100011111011010101001111100001111001010100101100100001001101010111000000111100001000010000100011110011111000101010011100001101111111000001010100101001101111010010111110100110000101101001011101010110011100101000011001001111100100011111110100110101100000111010101100101110101000011010010000101001100011110101111001110010110101101011001010100001101011101000001111000001000111010010010000101000101001110011100111100001000011000101101001010111000000011010011100010110101101011001011111100001000000100000001101001110001111100101111100101001010010110001111111101010101101001011000101100100010101111001010100000010101111010000100100000111100111001111100101111100101001011011111011111100010111101011010011010011110100100000010001010001010101000101010010110101101011001000111110101100000110010010110010000100110101011100001100101100110011110111000000010001111010010000010000010001000001101100000110011100100010010011110010100000100001000111000101010000110100000101011110100100101010011100001101111111000\n",
      "00010100010101010001010100100011110100100000100000100010000011011000001100111\n",
      "100001111111111010110001011001100000001000000100010010110101100111010110000010000001010000101001000101110011110100100101001011010110100100001001000101110101011011111010100100010111001101001101011111011111101000001100110000011110101000010101100101011010000010110100000001101111100100011110100100000100000100010000011011000001100111001000111110101100000110010010110010100101100010011101001010100001100000010011101011001011011110111101010100000010000100011100010011010101111100101100100001110001000111001110011000001100010000100011100010111010000010111011011000001010110011100101011001000010001110001101001110100101111110101100111101001001110101100000100000010100000101000101111010110000010000010001001100101101010110010000100011100010101101000001011010000000110111110010111010000010111011011000001010110011100011110000100001000010001110001010100111000011001000010001011000000011000010110100101000001000100110010110010000100011100010111101011111011000001010111000011000000101011011000000110001011010110101100101000111011110101110010110010000100011100010001111010010000010000010001000001101100000110010101100100001000111000110100110101100110100111100111110001111000010000100001000111000110100110101111101111110100000110011000001111010100000111010110001110011010001010010000010011101011010101100101110100000101110110110000010101100111000101101011010110010001111010010000010000010001000001101100000110001011101000001011101101001011000101101010110010110011100110000001101111111111001011001110010110001010110110000011000110010110101100010111100010101110101100101001011000101100110000001000101000001110001001000010001110001000111101001000001000001000100000110110000011000100011011010110011111011100010001111101011011101000101111010011100101100110000100110111110100010111111000\n",
      "0101001010010001010011111110001000101000101010100010101001000111101001000001000001000100000110110000011001110010110100111000110101011111001011001000100111010010010100010100010100111111110010100011010110000010010110001011001000111001101000101001000011100001011100101101010011000110100000111101000010110100100110000001101111010010110101101011001111000001000111010010010100101100001101001101111000000010001111101011101111000011000001001110101101110101011001000010001110101000001011010011100010110111110111111000110101011111001011001000100111010010011110000010001110100100101101010011010011111101000001101100000010011101011011101010110010100101100011111111010101011010010110001011001010010110101101001000010010001011101010110111110010001111010010000010000010001000001101100000010011101011001000100111010010010001111100101111000101110100000101110110100101100010110010110101001101001111110100000110110000001001110101101110101011001000100111010010010110101010000100011101011000001000001101100000010010110001011001010110100000101101000000011011111001000010010110101101110110000110000010011101011011100101101011010110010101000111010011101111000\n",
      "0001010010011110111101111111100101000011100110000000100000010001001000101000101010100010101\n",
      "00010100010101010001010100110100110011110100001001000101111001110010110001000111000101100100101100111100001000010000100110101011100000010111111000100001000101100000001010001011110101100000100000001001100111001111010110010110001101111000001000000111010011000001100100011011010110011111011100011000010110100101000001000100110010111111000001111100111001111010000001101000010110100101010110011111101001000001111000101101011101000001000111000101100100101101010110010110001000101000101010100010101001010001110011110101111111101000001011001110010111000010011110101100010110010110011100101000000011100110000001100110100000111100111000000111111010010111000001111110000010101010000100011101001110001011010011100011000010011010010100111010101011100101110000011010110101101101001010110111001000010001011000000010001111101000010110100100101100111101001110000110000011100111100001000010001010001010101000101010011111001011111001010010111101010001110001001011001110010000100011100010001010110110000110100110111100000001010100100000111100011110010010101001011111100111100010001010010101111101111110100000110010101010111010100000100010101101100010010010110011100001001101010001100001010110011100010101001111010010000010000010001000001101100000110001000101001110111110100000111010000010110101101011001010100111101001000001000001000100000110110000001001110101100100010100100101100001100000100000111100111001010101000110010110010100011010000001110100110000011001010100100110101010011101010100010101001100111110011001111001001111100110011110011111010100100101111000\n",
      "01010100001000111000101010011110100100000100000100010000011011000000100111010110011000011101010000100011110100101000000101000001100000100111001111010000000111110100100101010100011110100110101010100001010110010110111110111111000110000011101111101000000101100101100111001010100111000011111100111011000001001110011110100000001111101001001010101000111101001101010101000010101100101000111001011010110010100101101011101010111000010011010000010001111101011011111101001000001001010101010000010001001110101011011010111100101100101001011001111100110001010010110101001011111100100100101101011010110011000000100011110011111000101010001100101000111101110100101110010100101100011111111010101011110001010100111000011011101010110011111011001111010000000111110100100101111110000100000010000000110100111000110100110101111101111110100011110001110100101110010110101101011001111000001000111010010010111101000011100001100101000001101001100111101000010010001011110100101110011000000100011110001101010111110001010100100000111100011110010010101001011111100111100010101101000001011010000000110111110010001111010010000010000010001000001101100000110011100100010011101001001110101100011100110100010100100000100111010110010110101101011001011010101000010001110101100000100000110110000001001110101111110000010101010000100011100010101001110000111111001110110000010011100111101000000011111010010010101010001111010011010101010000011010011010111110111111010001111000111001110010001011101010100010111101111101001011110011100101101011010110011111011100111000000110100110010110000110000010000011110011100100010011101001001010100111000011011101010110011111011001111010000000111110100100101101011010110011110000010001110100100110100101101001000001001100111001010010111000010111011111100001011001011001010010110010000100011100010001010001010101000101010010110011100101000000001100111011111011000001100111001000011100010000100011100011010101111100011110000100001010110100000101101000000011011111001000111101001000001000001000100000110110000011001111111000\n",
      "10000111111100001000111101010100010111000100101100010101001110000110010100011100111100001000000110101100110011100001001101001100111001011001000011100010110011100101100011000001011000010011010101110000110010110010000100010100100101011001101001011010010000101000010101110000010110010111100011110100100000001111100101000010010110001011011100101001011001000010001110001011111000011101011001010000001010000011010011001111000011110010111010110011100111001111000010000110000100110100101001110101010111001010100111000011011100101001011001100111000011110101100000011010001100110100101110011000101100111001100000101011101110101001011010010101101001000001010011001011001000010011010101110000001010010110010000100011100011101011000001001001110001000101000101010100010101001111010110011000000100010100000111000100100001000111000101001011000011010011011110000000101011110101001110101101011011111110000010001010100010000111101011110001010100111000011001010001110010001111100101000101001100111100101000010001111100101101010110010000100011100010111110000111010110010100000010100000111100001000010000100011100011101011000001001001110001000101000101010100010101001010001110010110000000110010100011110000011111100000101010100011110100100111011110010000110010100010100111111110010101100101001011001111100110001010010110101010010101010100101010101100101010010100110111101001111101100111101000000011111010010011000010110101101011111010010111001100000011010011100010001001110100100011110010110010000111000100101101111111111001000111101001000001000001000100000110110000011001110010100011101111010111001011001111101101000001000010001110001100000100101010100000001110001001010100111000011001100000100100100000101101001111001101111110000001101001001011000010000001101001001010100011101001110001000010001011010110011111001001010100101101010010110010001000110100000111100010001111010010000010000010001000001101100000110011100110000001101001110001010110100011100011111010000101101001110010111111000\n",
      "0001010110110011111001100010100101101010100101111100111110101011001100000100011110111000010111111111000111010110001011010010111101101001011100101000101111010110000010000010001001100101100110100110011110111101111111100101000011100110000000100000010001001000111101001000001000001000100000110110000011001110010100011101111010111001011001000010001100111101010100010111000100101010100110101000010100001101011000011000011010100100010111001010100111000011001111101101010111010010111100111011101010110011000000100010100000111000100111111110010110010000111000101111010111110101111100101001010110101110101100000010101101000111000010011010101110000001111000010000101101111111111001000111101001000001000001000100000110110000011001110010100011101111010111001011001111101101000001010101001101010000101000011010110000110000110011010011001010011101001001000011100010000100011100010111011011111110001111000010000101000000011100101010011100001100111110110101011101001011110011101110010000111000110000010010010000010110100010100111101001000000111111011001110000001101000110011010011111000\n",
      "100001100110000001101111010011110000100001000010011010101110000\n",
      "100001110110010110111110000110100110110110000001001000010110001011010100110100110011110011000011100010010000111000110101011101001011000101100101100010101001110000110010000111000101101010100001000111010110000010000011011000001100011010011010111110111111010000011001100000111101010000010100101100010011101001010100001100000010011101011001010001110010110001010111100001111010110000100101101111101001000001010011001011001000010011010101110000001010100011100101111011111001000110110111111111111001011001011000110000010111000000110111101001111000010000100001001101010111000001010111000001011001011000100011111010110001111010100100000011010101111100101100101001011001000101001001110000000001010000011000001000111101110010110010001010010010100100001001100001110100000101010010011010100100100010110101101011001111000001000111010010011000001000010100111010110001010010000010001000101001111001010001111100101000101001011000000100111101111111100010111101000011100001100101000011111110000010001010110110111000011001100101100111100001000011001110111111010000100101100010110010111111011111110111111010000011110101100101100011000101001101001011010010001110001101000001111000010000100011110100100000100000100010000011011000001100010110101010000100011110100101000000010011001110101011001000111101001000001000001000100000110110000011001110010110100111000101110100000101110111100101100111110110100000111100000100011101001001101010111110100101110010000111000111010110101111101001011111000100001000111000101100111011111100001101000110000001001110101100111100001000010000100010110000000110100110101111101111110100000110011000001111010100000110000000100000010001001000010001110001101001110100101111110101100111101001001110101100000100000010100000111111010001110000110010110010100101100100001000111000100011110100100000100000100010000011011000001101111000\n",
      "10000010000101111000110100110011110111101111111100101000001100000001000000100010010000100010100011100101010001100000100011110010110010100011100101100011010101111101001001100010110011100100001110001000010011010101110000001011011111111110010000100011110011111000101001011001000010001110001100000111101010000010001110001011001001011001000011100011111011100011000111101011110011100000101011001011111100010100000011110011010001110011110000100000011010110011111011100111000000101111010101000000110010110010000111000101110101000011011111111110101011001101010111110100100100011111001010000101000101011011010000000100110011111110000010101010001111010010011101111001000011001010001010011111111001010110010110101100111010110000110100110100110010100011111000100011111010101111110101100110101011111000101100011000000110111101001111000010000100001001101010111000000100010011101001001011010101000010001110101100000100000110110000001001011000101100100001000111000101000101111010110000010000001010000011110000100001010000000111001010010110000110100110110110111110010110101101011001100111001010001110000011000110101011111010010111001011010110101100101011110100001001000001111001111111000001000101010000001000111110101011111101011001011011111011111100010110000110000001011001110010100000001110011110100000010110010101001110000110101011001101010111010010110001011001011111100001000000100000001101001110001011110101000111000100101100111001111100111000010000011100111100111111000010000000010101001111010010000010000010001000001101100000110001010101001101101001100001001000001111001110010000111000101000111011110101110001011010110101100110011101000010111010000011110001010110100000101101000000011011111001000111101001000001000001000100000110110000011001111111000\n"
     ]
    }
   ],
   "source": [
    "# 开始编码，源文件的每一个段落进行编码\n",
    "huffman_encoded = []\n",
    "for para in pl:\n",
    "    huffman_encoded_para = ''\n",
    "    for char in para:\n",
    "        if char == u'\\xa0': # Non-breaking space，'\\xa0' 属于latin1（ISO/IEC_8859-1）中的扩展字符集字符，即空格，需要单独处理\n",
    "            huffman_encoded_para += huffman_encode_table_dic[' ']\n",
    "        else:\n",
    "            huffman_encoded_para += huffman_encode_table_dic[char]\n",
    "    huffman_encoded.append(huffman_encoded_para)\n",
    "\n",
    "# 编码结果\n",
    "for para in huffman_encoded:\n",
    "    print(para)"
   ]
  },
  {
   "cell_type": "code",
   "execution_count": null,
   "id": "adjacent-turning",
   "metadata": {},
   "outputs": [],
   "source": []
  },
  {
   "cell_type": "markdown",
   "id": "earlier-pound",
   "metadata": {},
   "source": [
    "# 4、正式解码"
   ]
  },
  {
   "cell_type": "markdown",
   "id": "social-steal",
   "metadata": {},
   "source": [
    "## 解码步骤\n",
    "<br> 解码只需要将经过编码的比特串不断从huffman树的根结点遍历即可；<br>\n",
    "<br> 每到一次叶子结点，即解码出一个字符；<br>"
   ]
  },
  {
   "cell_type": "code",
   "execution_count": 22,
   "id": "national-relief",
   "metadata": {},
   "outputs": [],
   "source": [
    "# 最后一个结点是根结点\n",
    "# 注：huffman树的结点是存储在列表中的，通过root寻找子结点遍历树\n",
    "root = huffmantree.tree_node[-1]\n",
    "huffman_decoded = []\n",
    "for para in huffman_encoded:\n",
    "    huffman_decoded_para = ''\n",
    "    tmp = root\n",
    "    for bit in para:\n",
    "        if tmp.name == None or tmp.name == 'root':\n",
    "            if bit == '1': # 右结点\n",
    "                tmp = tmp.right\n",
    "            else: #左结点\n",
    "                tmp = tmp.left\n",
    "            \n",
    "            if tmp.name != None and tmp.name != 'root': # 叶子结点\n",
    "                # print(tmp.name)\n",
    "                huffman_decoded_para += tmp.name\n",
    "                tmp = root\n",
    "    huffman_decoded.append(huffman_decoded_para)"
   ]
  },
  {
   "cell_type": "code",
   "execution_count": 23,
   "id": "relative-bulgarian",
   "metadata": {},
   "outputs": [
    {
     "name": "stdout",
     "output_type": "stream",
     "text": [
      "A public key infrastructure (PKI) supports the distribution, revocation and verification of public keys used for public key encryption, and enables linking of identities with public key certificates. A PKI enables users and systems to securely exchange data over the internet and verify the legitimacy of certificate-holding entities, such as webservers, other authenticated servers and individuals. The PKI enables users to authenticate digital certificate holders, as well as to mediate the process of certificate revocation, using cryptographic algorithms to secure the process.\n",
      "PKI certificates include a public key used for encryption and cryptographic authentication of data sent to or from the entity that was issued the certificate. Other information included in a PKI certificate includes identifying information about the certificate holder, about the PKI that issued the certificate, and other data including the certificate's creation date and validity period.\n",
      "Without PKI, sensitive information can still be , ensuring confidentiality, and exchanged between two entities, but there would be no assurance of the identity of the other party. Any form of sensitive data exchanged over the internet is reliant on the PKI for enabling the use of  because the PKI enables the authenticated exchange of .\n",
      "Elements of PKI\n",
      "A typical PKI includes the following key elements:\n",
      "A trusted party provides the root of trust for all PKI certificates and provides services that can be used to authenticate the identity of individuals, computers and other entities. Usually known as , these entities provide assurance about the parties identified in a PKI certificate. Each CA maintains its own root CA, for use only by the CA.\n",
      "A  (RA), often called a subordinate CA, issues PKI certificates. The RA is certified by a root CA and authorized to issue certificates for specific uses permitted by the root.\n",
      "A certificate database stores information about issued certificates. In addition to the certificate itself, the database includes validity period and status of each PKI certificate. Certificate revocation is done by updating this database, which must be queried to authenticate any data digitally signed or encrypted with the  of the certificate holder.\n",
      "A certificate store, which is usually permanently stored on a computer, can also be maintained in memory for applications that do not require that certificates be stored permanently. The certificate store enables programs running on the system to access stored certificates,  and certificate trust lists.\n",
      "A CA issues digital certificates to entities and individuals; applicants may be required to verify their identity with increasing degrees of assurance for certificates with increasing levels of validation. The issuing CA digitally signs certificates using its secret key; its public key and  are made available for authentication to all interested parties in a self-signed CA certificate. CAs use the trusted root certificate to create a \"chain of trust;\" many root certificates are embedded in web browsers so they have built-in trust of those CAs. Web servers, email clients, smartphones and many other types of hardware and software -- including IoT devices -- also support PKI and contain trusted root certificates from the major CAs.\n",
      "PKI certificates\n",
      "Along with an entity's or individual's public key, digital certificates contain information about the  used to create the signature, the person or entity identified, the digital signature of the CA that verified the subject data and issued the certificate, the purpose of the public key encryption, signature and certificate signing, as well as a date range during which the certificate can be considered valid.\n",
      "While PKI certificates are used for implementing cryptography over web and other internet connections, they are also used for other applications, including individual certification for code signing applications, for authenticating digital transactions and more.\n",
      "Problems with PKI\n",
      "PKI provides a chain of trust so that identities on a network can be verified. However, like any chain, a PKI is only as strong as its weakest link. There are various standards that cover aspects of PKI -- such as the Internet X.509 Public Key Infrastructure Certificate Policy and Certification Practices Framework (RFC 2527).\n",
      "The Certification Authority Browser Forum, also known as CA/Browser Forum, is an industry consortium founded in 2005 and whose members include CAs, browser software publishers and other system providers who use X.509 digital certificates for encryption and authentication. The CA/Browser Forum publishes guidelines and best practices for CAs, browser and other parties involved in the PKI as it relates to the use of digital certificates.\n",
      "Although a CA is often referred to as a \"trusted third party,\" shortcomings in the security procedures of various CAs in recent years has jeopardized trust in the entire PKI on which the internet depends. If one CA is compromised, the security of the entire PKI is at risk. For example, in 2011, Web browser vendors were forced to  all certificates issued by the Dutch CA DigiNotar after more than 500 fake certificates were discovered.\n",
      "In 2017, Google engineers identified problems with certificates issued through Symantec's CA business, which led to subsequent distrust of all certificates issued by Symantec prior to the sale of its CA business to DigiCert last year.\n",
      "A web of trust\n",
      "An alternative approach to using a CA to authenticate public key information is a decentralized trust model called a \"web of trust,\" a concept used in Pretty Good Privacy () and other OpenPGP-compatible systems. Instead of relying solely on a hierarchy of certificate authorities, certificates are signed by other users to endorse the association of that public key with the person or entity listed in the certificate.\n",
      "One problem with this method is a user has to trust all those in the key chain to be honest, so it’s often best suited to small, user communities. For example, an enterprise could use a web of trust for authenticating the identity of its internal and remote users and devices. It could also act as its own CA, using software such as Microsoft Certificate Services to issue and revoke digital certificates.\n"
     ]
    }
   ],
   "source": [
    "for para in huffman_decoded:\n",
    "    print(para)"
   ]
  },
  {
   "cell_type": "code",
   "execution_count": null,
   "id": "aging-grounds",
   "metadata": {},
   "outputs": [],
   "source": []
  },
  {
   "cell_type": "markdown",
   "id": "coupled-database",
   "metadata": {},
   "source": [
    "# 5、计算压缩比"
   ]
  },
  {
   "cell_type": "markdown",
   "id": "reduced-accuracy",
   "metadata": {},
   "source": [
    "## 假设条件\n",
    "### 不同的编程语言对于字符的存储内存分配机制不同。这里假设，一个字符分配1个字节，即8bit。huffman编码将字符编码为一个bit串，故能压缩编码长度。"
   ]
  },
  {
   "cell_type": "code",
   "execution_count": 24,
   "id": "missing-integral",
   "metadata": {},
   "outputs": [
    {
     "name": "stdout",
     "output_type": "stream",
     "text": [
      "不使用压缩算法，原字符占用内存：50104（bit）\n",
      "使用huffman编码算法，占用内存：27603（bit）\n",
      "压缩比：44.9086%\n"
     ]
    }
   ],
   "source": [
    "# sum_characters：源文件需要编码的字符总数 6263\n",
    "# huffman_encode_table_dic：编码表\n",
    "# statics：字符出现频率统计\n",
    "\n",
    "\n",
    "# 不压缩的数据大小，单位bit\n",
    "none_encode = sum_characters * 8\n",
    "# 采用huffman编码后的数据大小，单位bit\n",
    "huff_encode = 0\n",
    "for item in statics:\n",
    "    ch = item[0]\n",
    "    num = item[1]\n",
    "    if num == 0:\n",
    "        continue\n",
    "    else:\n",
    "        code = huffman_encode_table_dic[ch]\n",
    "\n",
    "    huff_encode += num * len(code)\n",
    "\n",
    "compression_ration = 1 - huff_encode / none_encode\n",
    "    \n",
    "print('不使用压缩算法，原字符占用内存：%d（bit）'%none_encode)\n",
    "print('使用huffman编码算法，占用内存：%d（bit）'%huff_encode)\n",
    "print('压缩比：%.4f%%'%(compression_ration*100))"
   ]
  },
  {
   "cell_type": "code",
   "execution_count": null,
   "id": "blocked-teach",
   "metadata": {},
   "outputs": [],
   "source": []
  }
 ],
 "metadata": {
  "kernelspec": {
   "display_name": "Python 3",
   "language": "python",
   "name": "python3"
  },
  "language_info": {
   "codemirror_mode": {
    "name": "ipython",
    "version": 3
   },
   "file_extension": ".py",
   "mimetype": "text/x-python",
   "name": "python",
   "nbconvert_exporter": "python",
   "pygments_lexer": "ipython3",
   "version": "3.6.12"
  }
 },
 "nbformat": 4,
 "nbformat_minor": 5
}
